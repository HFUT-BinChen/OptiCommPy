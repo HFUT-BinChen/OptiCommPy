{
 "cells": [
  {
   "cell_type": "markdown",
   "id": "c6ee02f1",
   "metadata": {
    "colab_type": "text",
    "id": "view-in-github"
   },
   "source": [
    "<a href=\"https://colab.research.google.com/github/edsonportosilva/OptiCommPy/blob/main/examples/test_WDM_transmission.ipynb\" target=\"_parent\"><img src=\"https://colab.research.google.com/assets/colab-badge.svg\" alt=\"Open In Colab\"/></a>"
   ]
  },
  {
   "cell_type": "markdown",
   "id": "0270b2b0",
   "metadata": {
    "id": "0270b2b0"
   },
   "source": [
    "# Simulation of coherent WDM transmission with nonlinearity compensation using digital backpropagation (DBP)"
   ]
  },
  {
   "cell_type": "code",
   "execution_count": 1,
   "id": "1ca1b9d6",
   "metadata": {
    "ExecuteTime": {
     "end_time": "2023-04-04T11:50:41.997231Z",
     "start_time": "2023-04-04T11:50:41.978283Z"
    },
    "colab": {
     "base_uri": "https://localhost:8080/"
    },
    "id": "1ca1b9d6",
    "outputId": "842dd4fc-f03a-4069-cf21-3ff634969be9"
   },
   "outputs": [],
   "source": [
    "if 'google.colab' in str(get_ipython()):    \n",
    "    ! git clone -b main https://github.com/edsonportosilva/OptiCommPy\n",
    "    from os import chdir as cd\n",
    "    cd('/content/OptiCommPy/')\n",
    "    ! pip install . "
   ]
  },
  {
   "cell_type": "code",
   "execution_count": 2,
   "id": "a4110d40",
   "metadata": {
    "ExecuteTime": {
     "end_time": "2023-04-04T11:50:47.469848Z",
     "start_time": "2023-04-04T11:50:41.998230Z"
    },
    "id": "a4110d40"
   },
   "outputs": [],
   "source": [
    "import matplotlib.pyplot as plt\n",
    "import numpy as np\n",
    "\n",
    "from optic.dsp import pulseShape, firFilter, decimate, symbolSync, pnorm\n",
    "from optic.models import phaseNoise, pdmCoherentReceiver\n",
    "\n",
    "try:\n",
    "    from optic.modelsGPU import manakovSSF, manakovDBP\n",
    "except:\n",
    "    from optic.models import manakovSSF\n",
    "\n",
    "from optic.tx import simpleWDMTx\n",
    "from optic.core import parameters\n",
    "from optic.equalization import edc, mimoAdaptEqualizer\n",
    "from optic.carrierRecovery import cpr\n",
    "from optic.metrics import fastBERcalc, monteCarloGMI, monteCarloMI, signal_power, calcEVM\n",
    "from optic.plot import pconst, plotPSD\n",
    "\n",
    "import scipy.constants as const\n",
    "\n",
    "import logging as logg\n",
    "logg.basicConfig(level=logg.WARNING, format='%(message)s', force=True)\n",
    "\n",
    "from copy import deepcopy\n",
    "from tqdm.notebook import tqdm"
   ]
  },
  {
   "cell_type": "code",
   "execution_count": 3,
   "id": "7df01820",
   "metadata": {
    "ExecuteTime": {
     "end_time": "2023-04-04T11:50:47.499964Z",
     "start_time": "2023-04-04T11:50:47.474054Z"
    },
    "colab": {
     "base_uri": "https://localhost:8080/",
     "height": 17
    },
    "id": "7df01820",
    "outputId": "604d8ed4-041f-4280-ec2b-972c3a244a4d"
   },
   "outputs": [
    {
     "data": {
      "text/html": [
       "\n",
       "<style>\n",
       ".output_png {\n",
       "    display: table-cell;\n",
       "    text-align: center;\n",
       "    vertical-align: middle;\n",
       "}\n",
       "</style>\n"
      ],
      "text/plain": [
       "<IPython.core.display.HTML object>"
      ]
     },
     "execution_count": 3,
     "metadata": {},
     "output_type": "execute_result"
    }
   ],
   "source": [
    "from IPython.core.display import HTML\n",
    "from IPython.core.pylabtools import figsize\n",
    "\n",
    "HTML(\"\"\"\n",
    "<style>\n",
    ".output_png {\n",
    "    display: table-cell;\n",
    "    text-align: center;\n",
    "    vertical-align: middle;\n",
    "}\n",
    "</style>\n",
    "\"\"\")"
   ]
  },
  {
   "cell_type": "code",
   "execution_count": 4,
   "id": "b8626f68",
   "metadata": {
    "ExecuteTime": {
     "end_time": "2023-04-04T11:50:47.592272Z",
     "start_time": "2023-04-04T11:50:47.501930Z"
    },
    "id": "b8626f68"
   },
   "outputs": [],
   "source": [
    "figsize(10, 3)"
   ]
  },
  {
   "cell_type": "code",
   "execution_count": 5,
   "id": "fc09c144",
   "metadata": {
    "ExecuteTime": {
     "end_time": "2023-04-04T11:50:47.748232Z",
     "start_time": "2023-04-04T11:50:47.598256Z"
    },
    "id": "fc09c144"
   },
   "outputs": [],
   "source": [
    "%load_ext autoreload\n",
    "%autoreload 2\n",
    "#%load_ext line_profiler"
   ]
  },
  {
   "cell_type": "markdown",
   "id": "e22e32db",
   "metadata": {
    "id": "e22e32db"
   },
   "source": [
    "\n",
    "## Transmitter"
   ]
  },
  {
   "cell_type": "markdown",
   "id": "f01da2ca",
   "metadata": {
    "id": "f01da2ca"
   },
   "source": [
    "**Polarization multiplexed WDM signal generation**"
   ]
  },
  {
   "cell_type": "code",
   "execution_count": 6,
   "id": "51257869",
   "metadata": {
    "ExecuteTime": {
     "end_time": "2023-04-04T11:50:58.911880Z",
     "start_time": "2023-04-04T11:50:47.749230Z"
    },
    "colab": {
     "base_uri": "https://localhost:8080/"
    },
    "id": "51257869",
    "lines_to_next_cell": 0,
    "outputId": "4efb007d-d5fe-4d7d-ad28-f0bbffdd13fd"
   },
   "outputs": [
    {
     "data": {
      "application/vnd.jupyter.widget-view+json": {
       "model_id": "b119a1bd2bd14992865eebce4c6e2599",
       "version_major": 2,
       "version_minor": 0
      },
      "text/plain": [
       "  0%|          | 0/11 [00:00<?, ?it/s]"
      ]
     },
     "metadata": {},
     "output_type": "display_data"
    }
   ],
   "source": [
    "# Transmitter parameters:\n",
    "paramTx = parameters()\n",
    "paramTx.M   = 64           # order of the modulation format\n",
    "paramTx.Rs  = 32e9         # symbol rate [baud]\n",
    "paramTx.SpS = 16           # samples per symbol\n",
    "paramTx.pulse = 'rrc'      # pulse shaping filter\n",
    "paramTx.Ntaps = 2*4096     # number of pulse shaping filter coefficients\n",
    "paramTx.alphaRRC = 0.01    # RRC rolloff\n",
    "paramTx.Pch_dBm = 0        # power per WDM channel [dBm]\n",
    "paramTx.Nch     = 11       # number of WDM channels\n",
    "paramTx.Fc      = 193.1e12 # central optical frequency of the WDM spectrum\n",
    "paramTx.lw      = 100e3    # laser linewidth in Hz\n",
    "paramTx.freqSpac = 37.5e9  # WDM grid spacing\n",
    "paramTx.Nmodes = 2         # number of signal modes [2 for polarization multiplexed signals]\n",
    "paramTx.Nbits = int(np.log2(paramTx.M)*1e5) # total number of bits per polarization\n",
    "\n",
    "# generate WDM signal\n",
    "sigWDM_Tx, symbTx_, paramTx = simpleWDMTx(paramTx)"
   ]
  },
  {
   "cell_type": "markdown",
   "id": "0cb851bf",
   "metadata": {
    "id": "0cb851bf"
   },
   "source": [
    "**Nonlinear fiber propagation with the split-step Fourier method + receiver DSP**"
   ]
  },
  {
   "cell_type": "code",
   "execution_count": 7,
   "id": "05599d49",
   "metadata": {
    "ExecuteTime": {
     "end_time": "2023-04-04T12:21:05.146810Z",
     "start_time": "2023-04-04T11:50:58.912853Z"
    },
    "colab": {
     "base_uri": "https://localhost:8080/",
     "height": 49,
     "referenced_widgets": [
      "d7ec57b1b19d4660a0548563dd43f97c",
      "f973387453444cc4b5fbec8658506a3a",
      "0d0d223577654c0980520ed48c4866a7",
      "92a22dde2b5e4ab882f824d5dff0d377",
      "7b1b87f7b77049a691df25723928eef3",
      "32ef48a5dd1d4a2cb94e5409dd572d74",
      "c5a9e5d034e64b00b295e93140f51e72",
      "b70bb6363ff64ccbb7087900ef892eb5",
      "d4247b94ef5c4a439cd4af9458125fc2",
      "6a786005faa04fd8b7c5e69dc70df06a",
      "994d17059a9b47f0b2ed3654712fb0c3"
     ]
    },
    "id": "05599d49",
    "outputId": "debb83bb-27f7-46f4-be76-89fc838c11ac",
    "scrolled": false
   },
   "outputs": [
    {
     "data": {
      "application/vnd.jupyter.widget-view+json": {
       "model_id": "0ffd95d628ea407ba2d331fb9fe6d7e7",
       "version_major": 2,
       "version_minor": 0
      },
      "text/plain": [
       "  0%|          | 0/16 [00:00<?, ?it/s]"
      ]
     },
     "metadata": {},
     "output_type": "display_data"
    },
    {
     "data": {
      "application/vnd.jupyter.widget-view+json": {
       "model_id": "ac7ed28782724b858480a237134fa80d",
       "version_major": 2,
       "version_minor": 0
      },
      "text/plain": [
       "  0%|          | 0/14 [00:00<?, ?it/s]"
      ]
     },
     "metadata": {},
     "output_type": "display_data"
    },
    {
     "name": "stdout",
     "output_type": "stream",
     "text": [
      "sigWDM power:  -7.94 dBm\n"
     ]
    },
    {
     "data": {
      "application/vnd.jupyter.widget-view+json": {
       "model_id": "0f69b08ae5244d9e9fae70e0bc6d7dd1",
       "version_major": 2,
       "version_minor": 0
      },
      "text/plain": [
       "  0%|          | 0/14 [00:00<?, ?it/s]"
      ]
     },
     "metadata": {},
     "output_type": "display_data"
    },
    {
     "name": "stdout",
     "output_type": "stream",
     "text": [
      "      pol.X      pol.Y      \n",
      " SER: 9.63e-02,  9.52e-02\n",
      " BER: 1.64e-02,  1.63e-02\n",
      " SNR: 18.99 dB,  18.98 dB\n",
      " EVM: 1.26 %,    1.27 %\n",
      "  MI: 5.62 bits, 5.62 bits\n",
      " GMI: 5.62 bits, 5.63 bits\n",
      "NGMI: 0.94,      0.94\n",
      "      pol.X      pol.Y      \n",
      " SER: 9.83e-02,  9.75e-02\n",
      " BER: 1.68e-02,  1.67e-02\n",
      " SNR: 18.95 dB,  18.93 dB\n",
      " EVM: 1.28 %,    1.28 %\n",
      "  MI: 5.62 bits, 5.61 bits\n",
      " GMI: 5.62 bits, 5.62 bits\n",
      "NGMI: 0.94,      0.94\n"
     ]
    },
    {
     "data": {
      "application/vnd.jupyter.widget-view+json": {
       "model_id": "6469b3aeacab4ada821ac400e2a9737d",
       "version_major": 2,
       "version_minor": 0
      },
      "text/plain": [
       "  0%|          | 0/14 [00:00<?, ?it/s]"
      ]
     },
     "metadata": {},
     "output_type": "display_data"
    },
    {
     "name": "stdout",
     "output_type": "stream",
     "text": [
      "sigWDM power:  -7.45 dBm\n"
     ]
    },
    {
     "data": {
      "application/vnd.jupyter.widget-view+json": {
       "model_id": "58d82ff5d57740d596cf8990a2a11842",
       "version_major": 2,
       "version_minor": 0
      },
      "text/plain": [
       "  0%|          | 0/14 [00:00<?, ?it/s]"
      ]
     },
     "metadata": {},
     "output_type": "display_data"
    },
    {
     "name": "stdout",
     "output_type": "stream",
     "text": [
      "      pol.X      pol.Y      \n",
      " SER: 7.05e-02,  6.96e-02\n",
      " BER: 1.20e-02,  1.18e-02\n",
      " SNR: 19.55 dB,  19.57 dB\n",
      " EVM: 1.11 %,    1.11 %\n",
      "  MI: 5.72 bits, 5.72 bits\n",
      " GMI: 5.72 bits, 5.72 bits\n",
      "NGMI: 0.95,      0.95\n",
      "      pol.X      pol.Y      \n",
      " SER: 7.29e-02,  7.18e-02\n",
      " BER: 1.24e-02,  1.22e-02\n",
      " SNR: 19.49 dB,  19.52 dB\n",
      " EVM: 1.13 %,    1.12 %\n",
      "  MI: 5.71 bits, 5.71 bits\n",
      " GMI: 5.71 bits, 5.72 bits\n",
      "NGMI: 0.95,      0.95\n"
     ]
    },
    {
     "data": {
      "application/vnd.jupyter.widget-view+json": {
       "model_id": "565bb9233b7f43fca377a40bd7e138ce",
       "version_major": 2,
       "version_minor": 0
      },
      "text/plain": [
       "  0%|          | 0/14 [00:00<?, ?it/s]"
      ]
     },
     "metadata": {},
     "output_type": "display_data"
    },
    {
     "name": "stdout",
     "output_type": "stream",
     "text": [
      "sigWDM power:  -6.95 dBm\n"
     ]
    },
    {
     "data": {
      "application/vnd.jupyter.widget-view+json": {
       "model_id": "d76a46b7072f4d81a6b26a3831fcc504",
       "version_major": 2,
       "version_minor": 0
      },
      "text/plain": [
       "  0%|          | 0/14 [00:00<?, ?it/s]"
      ]
     },
     "metadata": {},
     "output_type": "display_data"
    },
    {
     "name": "stdout",
     "output_type": "stream",
     "text": [
      "      pol.X      pol.Y      \n",
      " SER: 5.87e-02,  5.69e-02\n",
      " BER: 9.93e-03,  9.62e-03\n",
      " SNR: 19.89 dB,  19.91 dB\n",
      " EVM: 1.03 %,    1.02 %\n",
      "  MI: 5.77 bits, 5.77 bits\n",
      " GMI: 5.77 bits, 5.77 bits\n",
      "NGMI: 0.96,      0.96\n",
      "      pol.X      pol.Y      \n",
      " SER: 6.10e-02,  5.91e-02\n",
      " BER: 1.03e-02,  1.00e-02\n",
      " SNR: 19.81 dB,  19.84 dB\n",
      " EVM: 1.05 %,    1.04 %\n",
      "  MI: 5.75 bits, 5.76 bits\n",
      " GMI: 5.75 bits, 5.77 bits\n",
      "NGMI: 0.96,      0.96\n"
     ]
    },
    {
     "data": {
      "application/vnd.jupyter.widget-view+json": {
       "model_id": "95e705ed47a24e0eb9c87ac95a9f9fa5",
       "version_major": 2,
       "version_minor": 0
      },
      "text/plain": [
       "  0%|          | 0/14 [00:00<?, ?it/s]"
      ]
     },
     "metadata": {},
     "output_type": "display_data"
    },
    {
     "name": "stdout",
     "output_type": "stream",
     "text": [
      "sigWDM power:  -6.46 dBm\n"
     ]
    },
    {
     "data": {
      "application/vnd.jupyter.widget-view+json": {
       "model_id": "d2753dc7474f460eaa959aae7fbea00d",
       "version_major": 2,
       "version_minor": 0
      },
      "text/plain": [
       "  0%|          | 0/14 [00:00<?, ?it/s]"
      ]
     },
     "metadata": {},
     "output_type": "display_data"
    },
    {
     "name": "stdout",
     "output_type": "stream",
     "text": [
      "      pol.X      pol.Y      \n",
      " SER: 4.22e-02,  4.44e-02\n",
      " BER: 7.11e-03,  7.50e-03\n",
      " SNR: 20.41 dB,  20.30 dB\n",
      " EVM: 0.91 %,    0.93 %\n",
      "  MI: 5.83 bits, 5.82 bits\n",
      " GMI: 5.83 bits, 5.82 bits\n",
      "NGMI: 0.97,      0.97\n",
      "      pol.X      pol.Y      \n",
      " SER: 4.56e-02,  4.63e-02\n",
      " BER: 7.67e-03,  7.83e-03\n",
      " SNR: 20.31 dB,  20.25 dB\n",
      " EVM: 0.93 %,    0.95 %\n",
      "  MI: 5.82 bits, 5.81 bits\n",
      " GMI: 5.82 bits, 5.81 bits\n",
      "NGMI: 0.97,      0.97\n"
     ]
    },
    {
     "data": {
      "application/vnd.jupyter.widget-view+json": {
       "model_id": "8e72d5ad5c6e4a47a33ed591db7cd565",
       "version_major": 2,
       "version_minor": 0
      },
      "text/plain": [
       "  0%|          | 0/14 [00:00<?, ?it/s]"
      ]
     },
     "metadata": {},
     "output_type": "display_data"
    },
    {
     "name": "stdout",
     "output_type": "stream",
     "text": [
      "sigWDM power:  -5.96 dBm\n"
     ]
    },
    {
     "data": {
      "application/vnd.jupyter.widget-view+json": {
       "model_id": "61dcd70e97514b90ad657244de1ecaf6",
       "version_major": 2,
       "version_minor": 0
      },
      "text/plain": [
       "  0%|          | 0/14 [00:00<?, ?it/s]"
      ]
     },
     "metadata": {},
     "output_type": "display_data"
    },
    {
     "name": "stdout",
     "output_type": "stream",
     "text": [
      "      pol.X      pol.Y      \n",
      " SER: 3.20e-02,  3.16e-02\n",
      " BER: 5.39e-03,  5.31e-03\n",
      " SNR: 20.82 dB,  20.79 dB\n",
      " EVM: 0.83 %,    0.83 %\n",
      "  MI: 5.87 bits, 5.87 bits\n",
      " GMI: 5.87 bits, 5.87 bits\n",
      "NGMI: 0.98,      0.98\n",
      "      pol.X      pol.Y      \n",
      " SER: 3.52e-02,  3.51e-02\n",
      " BER: 5.93e-03,  5.91e-03\n",
      " SNR: 20.70 dB,  20.67 dB\n",
      " EVM: 0.85 %,    0.86 %\n",
      "  MI: 5.86 bits, 5.85 bits\n",
      " GMI: 5.86 bits, 5.86 bits\n",
      "NGMI: 0.98,      0.98\n"
     ]
    },
    {
     "data": {
      "application/vnd.jupyter.widget-view+json": {
       "model_id": "fe7aa02f14ef46dfa70968e0449800fa",
       "version_major": 2,
       "version_minor": 0
      },
      "text/plain": [
       "  0%|          | 0/14 [00:00<?, ?it/s]"
      ]
     },
     "metadata": {},
     "output_type": "display_data"
    },
    {
     "name": "stdout",
     "output_type": "stream",
     "text": [
      "sigWDM power:  -5.46 dBm\n"
     ]
    },
    {
     "data": {
      "application/vnd.jupyter.widget-view+json": {
       "model_id": "2736b8b270d247dfaaae01a7797b0b48",
       "version_major": 2,
       "version_minor": 0
      },
      "text/plain": [
       "  0%|          | 0/14 [00:00<?, ?it/s]"
      ]
     },
     "metadata": {},
     "output_type": "display_data"
    },
    {
     "name": "stdout",
     "output_type": "stream",
     "text": [
      "      pol.X      pol.Y      \n",
      " SER: 2.54e-02,  2.55e-02\n",
      " BER: 4.25e-03,  4.26e-03\n",
      " SNR: 21.13 dB,  21.11 dB\n",
      " EVM: 0.77 %,    0.77 %\n",
      "  MI: 5.90 bits, 5.89 bits\n",
      " GMI: 5.89 bits, 5.90 bits\n",
      "NGMI: 0.98,      0.98\n",
      "      pol.X      pol.Y      \n",
      " SER: 2.91e-02,  2.89e-02\n",
      " BER: 4.88e-03,  4.85e-03\n",
      " SNR: 20.97 dB,  20.96 dB\n",
      " EVM: 0.80 %,    0.80 %\n",
      "  MI: 5.88 bits, 5.88 bits\n",
      " GMI: 5.88 bits, 5.88 bits\n",
      "NGMI: 0.98,      0.98\n"
     ]
    },
    {
     "data": {
      "application/vnd.jupyter.widget-view+json": {
       "model_id": "1d46288442dd4a0f9a8f080f4631d20b",
       "version_major": 2,
       "version_minor": 0
      },
      "text/plain": [
       "  0%|          | 0/14 [00:00<?, ?it/s]"
      ]
     },
     "metadata": {},
     "output_type": "display_data"
    },
    {
     "name": "stdout",
     "output_type": "stream",
     "text": [
      "sigWDM power:  -4.97 dBm\n"
     ]
    },
    {
     "data": {
      "application/vnd.jupyter.widget-view+json": {
       "model_id": "47471d57495046bf878dff0e9bc31bbe",
       "version_major": 2,
       "version_minor": 0
      },
      "text/plain": [
       "  0%|          | 0/14 [00:00<?, ?it/s]"
      ]
     },
     "metadata": {},
     "output_type": "display_data"
    },
    {
     "name": "stdout",
     "output_type": "stream",
     "text": [
      "      pol.X      pol.Y      \n",
      " SER: 1.93e-02,  2.02e-02\n",
      " BER: 3.24e-03,  3.38e-03\n",
      " SNR: 21.53 dB,  21.42 dB\n",
      " EVM: 0.70 %,    0.72 %\n",
      "  MI: 5.92 bits, 5.92 bits\n",
      " GMI: 5.92 bits, 5.92 bits\n",
      "NGMI: 0.99,      0.99\n",
      "      pol.X      pol.Y      \n",
      " SER: 2.32e-02,  2.52e-02\n",
      " BER: 3.90e-03,  4.22e-03\n",
      " SNR: 21.30 dB,  21.13 dB\n",
      " EVM: 0.74 %,    0.77 %\n",
      "  MI: 5.91 bits, 5.90 bits\n",
      " GMI: 5.91 bits, 5.90 bits\n",
      "NGMI: 0.98,      0.98\n"
     ]
    },
    {
     "data": {
      "application/vnd.jupyter.widget-view+json": {
       "model_id": "96015ab72c1542aa946027584e4e869a",
       "version_major": 2,
       "version_minor": 0
      },
      "text/plain": [
       "  0%|          | 0/14 [00:00<?, ?it/s]"
      ]
     },
     "metadata": {},
     "output_type": "display_data"
    },
    {
     "name": "stdout",
     "output_type": "stream",
     "text": [
      "sigWDM power:  -4.47 dBm\n"
     ]
    },
    {
     "data": {
      "application/vnd.jupyter.widget-view+json": {
       "model_id": "6ff97332ed134bccb7e177bd82dafdd6",
       "version_major": 2,
       "version_minor": 0
      },
      "text/plain": [
       "  0%|          | 0/14 [00:00<?, ?it/s]"
      ]
     },
     "metadata": {},
     "output_type": "display_data"
    },
    {
     "name": "stdout",
     "output_type": "stream",
     "text": [
      "      pol.X      pol.Y      \n",
      " SER: 1.45e-02,  1.44e-02\n",
      " BER: 2.43e-03,  2.40e-03\n",
      " SNR: 21.84 dB,  21.81 dB\n",
      " EVM: 0.65 %,    0.66 %\n",
      "  MI: 5.94 bits, 5.94 bits\n",
      " GMI: 5.94 bits, 5.94 bits\n",
      "NGMI: 0.99,      0.99\n",
      "      pol.X      pol.Y      \n",
      " SER: 1.91e-02,  1.85e-02\n",
      " BER: 3.20e-03,  3.09e-03\n",
      " SNR: 21.52 dB,  21.48 dB\n",
      " EVM: 0.70 %,    0.71 %\n",
      "  MI: 5.92 bits, 5.92 bits\n",
      " GMI: 5.92 bits, 5.92 bits\n",
      "NGMI: 0.99,      0.99\n"
     ]
    },
    {
     "data": {
      "application/vnd.jupyter.widget-view+json": {
       "model_id": "3fdea3f408f94586a6b070f553e7e328",
       "version_major": 2,
       "version_minor": 0
      },
      "text/plain": [
       "  0%|          | 0/14 [00:00<?, ?it/s]"
      ]
     },
     "metadata": {},
     "output_type": "display_data"
    },
    {
     "name": "stdout",
     "output_type": "stream",
     "text": [
      "sigWDM power:  -3.98 dBm\n"
     ]
    },
    {
     "data": {
      "application/vnd.jupyter.widget-view+json": {
       "model_id": "acb4d14526d84949a16b6fcf30a0a73f",
       "version_major": 2,
       "version_minor": 0
      },
      "text/plain": [
       "  0%|          | 0/14 [00:00<?, ?it/s]"
      ]
     },
     "metadata": {},
     "output_type": "display_data"
    },
    {
     "name": "stdout",
     "output_type": "stream",
     "text": [
      "      pol.X      pol.Y      \n",
      " SER: 1.19e-02,  1.08e-02\n",
      " BER: 1.98e-03,  1.80e-03\n",
      " SNR: 22.10 dB,  22.09 dB\n",
      " EVM: 0.62 %,    0.62 %\n",
      "  MI: 5.95 bits, 5.95 bits\n",
      " GMI: 5.95 bits, 5.95 bits\n",
      "NGMI: 0.99,      0.99\n",
      "      pol.X      pol.Y      \n",
      " SER: 1.69e-02,  1.60e-02\n",
      " BER: 2.83e-03,  2.67e-03\n",
      " SNR: 21.69 dB,  21.68 dB\n",
      " EVM: 0.68 %,    0.68 %\n",
      "  MI: 5.93 bits, 5.93 bits\n",
      " GMI: 5.93 bits, 5.93 bits\n",
      "NGMI: 0.99,      0.99\n"
     ]
    },
    {
     "data": {
      "application/vnd.jupyter.widget-view+json": {
       "model_id": "105199c8b7d84d27bf44c63e38b80623",
       "version_major": 2,
       "version_minor": 0
      },
      "text/plain": [
       "  0%|          | 0/14 [00:00<?, ?it/s]"
      ]
     },
     "metadata": {},
     "output_type": "display_data"
    },
    {
     "name": "stdout",
     "output_type": "stream",
     "text": [
      "sigWDM power:  -3.48 dBm\n"
     ]
    },
    {
     "data": {
      "application/vnd.jupyter.widget-view+json": {
       "model_id": "9b05346ceb034b9ca993b6450c26c364",
       "version_major": 2,
       "version_minor": 0
      },
      "text/plain": [
       "  0%|          | 0/14 [00:00<?, ?it/s]"
      ]
     },
     "metadata": {},
     "output_type": "display_data"
    },
    {
     "name": "stdout",
     "output_type": "stream",
     "text": [
      "      pol.X      pol.Y      \n",
      " SER: 9.86e-03,  9.09e-03\n",
      " BER: 1.65e-03,  1.52e-03\n",
      " SNR: 22.29 dB,  22.28 dB\n",
      " EVM: 0.59 %,    0.59 %\n",
      "  MI: 5.96 bits, 5.96 bits\n",
      " GMI: 5.96 bits, 5.96 bits\n",
      "NGMI: 0.99,      0.99\n",
      "      pol.X      pol.Y      \n",
      " SER: 1.64e-02,  1.61e-02\n",
      " BER: 2.74e-03,  2.70e-03\n",
      " SNR: 21.71 dB,  21.70 dB\n",
      " EVM: 0.67 %,    0.68 %\n",
      "  MI: 5.93 bits, 5.93 bits\n",
      " GMI: 5.93 bits, 5.93 bits\n",
      "NGMI: 0.99,      0.99\n"
     ]
    },
    {
     "data": {
      "application/vnd.jupyter.widget-view+json": {
       "model_id": "5fe72a511b58455d98dbe49a953df1f2",
       "version_major": 2,
       "version_minor": 0
      },
      "text/plain": [
       "  0%|          | 0/14 [00:00<?, ?it/s]"
      ]
     },
     "metadata": {},
     "output_type": "display_data"
    },
    {
     "name": "stdout",
     "output_type": "stream",
     "text": [
      "sigWDM power:  -2.98 dBm\n"
     ]
    },
    {
     "data": {
      "application/vnd.jupyter.widget-view+json": {
       "model_id": "ee24cd0fa9ee4738b72159ed6ef98f78",
       "version_major": 2,
       "version_minor": 0
      },
      "text/plain": [
       "  0%|          | 0/14 [00:00<?, ?it/s]"
      ]
     },
     "metadata": {},
     "output_type": "display_data"
    },
    {
     "name": "stdout",
     "output_type": "stream",
     "text": [
      "      pol.X      pol.Y      \n",
      " SER: 8.31e-03,  8.48e-03\n",
      " BER: 1.39e-03,  1.42e-03\n",
      " SNR: 22.44 dB,  22.43 dB\n",
      " EVM: 0.57 %,    0.57 %\n",
      "  MI: 5.97 bits, 5.96 bits\n",
      " GMI: 5.97 bits, 5.96 bits\n",
      "NGMI: 0.99,      0.99\n",
      "      pol.X      pol.Y      \n",
      " SER: 1.59e-02,  1.69e-02\n",
      " BER: 2.67e-03,  2.84e-03\n",
      " SNR: 21.73 dB,  21.71 dB\n",
      " EVM: 0.67 %,    0.67 %\n",
      "  MI: 5.93 bits, 5.93 bits\n",
      " GMI: 5.93 bits, 5.93 bits\n",
      "NGMI: 0.99,      0.99\n"
     ]
    },
    {
     "data": {
      "application/vnd.jupyter.widget-view+json": {
       "model_id": "3e6b2f05eed2486b8d1e828398f82aec",
       "version_major": 2,
       "version_minor": 0
      },
      "text/plain": [
       "  0%|          | 0/14 [00:00<?, ?it/s]"
      ]
     },
     "metadata": {},
     "output_type": "display_data"
    },
    {
     "name": "stdout",
     "output_type": "stream",
     "text": [
      "sigWDM power:  -2.48 dBm\n"
     ]
    },
    {
     "data": {
      "application/vnd.jupyter.widget-view+json": {
       "model_id": "cd4a47a976d041acadc8df08c66c0ac0",
       "version_major": 2,
       "version_minor": 0
      },
      "text/plain": [
       "  0%|          | 0/14 [00:00<?, ?it/s]"
      ]
     },
     "metadata": {},
     "output_type": "display_data"
    },
    {
     "name": "stdout",
     "output_type": "stream",
     "text": [
      "      pol.X      pol.Y      \n",
      " SER: 7.64e-03,  7.66e-03\n",
      " BER: 1.28e-03,  1.28e-03\n",
      " SNR: 22.55 dB,  22.50 dB\n",
      " EVM: 0.56 %,    0.56 %\n",
      "  MI: 5.97 bits, 5.97 bits\n",
      " GMI: 5.97 bits, 5.97 bits\n",
      "NGMI: 0.99,      0.99\n",
      "      pol.X      pol.Y      \n",
      " SER: 1.80e-02,  1.81e-02\n",
      " BER: 3.02e-03,  3.05e-03\n",
      " SNR: 21.63 dB,  21.61 dB\n",
      " EVM: 0.69 %,    0.69 %\n",
      "  MI: 5.92 bits, 5.92 bits\n",
      " GMI: 5.92 bits, 5.92 bits\n",
      "NGMI: 0.99,      0.99\n"
     ]
    },
    {
     "data": {
      "application/vnd.jupyter.widget-view+json": {
       "model_id": "948539b99d8045a1804a032ecb5ed7c8",
       "version_major": 2,
       "version_minor": 0
      },
      "text/plain": [
       "  0%|          | 0/14 [00:00<?, ?it/s]"
      ]
     },
     "metadata": {},
     "output_type": "display_data"
    },
    {
     "name": "stdout",
     "output_type": "stream",
     "text": [
      "sigWDM power:  -1.98 dBm\n"
     ]
    },
    {
     "data": {
      "application/vnd.jupyter.widget-view+json": {
       "model_id": "0b1b2a14009d4243a7d2c641aca80bc8",
       "version_major": 2,
       "version_minor": 0
      },
      "text/plain": [
       "  0%|          | 0/14 [00:00<?, ?it/s]"
      ]
     },
     "metadata": {},
     "output_type": "display_data"
    },
    {
     "name": "stdout",
     "output_type": "stream",
     "text": [
      "      pol.X      pol.Y      \n",
      " SER: 7.30e-03,  7.84e-03\n",
      " BER: 1.22e-03,  1.31e-03\n",
      " SNR: 22.58 dB,  22.51 dB\n",
      " EVM: 0.55 %,    0.56 %\n",
      "  MI: 5.97 bits, 5.97 bits\n",
      " GMI: 5.97 bits, 5.97 bits\n",
      "NGMI: 0.99,      0.99\n",
      "      pol.X      pol.Y      \n",
      " SER: 2.16e-02,  2.17e-02\n",
      " BER: 3.62e-03,  3.66e-03\n",
      " SNR: 21.44 dB,  21.41 dB\n",
      " EVM: 0.72 %,    0.72 %\n",
      "  MI: 5.91 bits, 5.91 bits\n",
      " GMI: 5.91 bits, 5.91 bits\n",
      "NGMI: 0.98,      0.98\n"
     ]
    },
    {
     "data": {
      "application/vnd.jupyter.widget-view+json": {
       "model_id": "9aa78b53d7a141ee8e0be1dd6594301e",
       "version_major": 2,
       "version_minor": 0
      },
      "text/plain": [
       "  0%|          | 0/14 [00:00<?, ?it/s]"
      ]
     },
     "metadata": {},
     "output_type": "display_data"
    },
    {
     "name": "stdout",
     "output_type": "stream",
     "text": [
      "sigWDM power:  -1.49 dBm\n"
     ]
    },
    {
     "data": {
      "application/vnd.jupyter.widget-view+json": {
       "model_id": "c395bf4694ca43838c0740f17cefef2e",
       "version_major": 2,
       "version_minor": 0
      },
      "text/plain": [
       "  0%|          | 0/14 [00:00<?, ?it/s]"
      ]
     },
     "metadata": {},
     "output_type": "display_data"
    },
    {
     "name": "stdout",
     "output_type": "stream",
     "text": [
      "      pol.X      pol.Y      \n",
      " SER: 8.16e-03,  8.07e-03\n",
      " BER: 1.37e-03,  1.35e-03\n",
      " SNR: 22.48 dB,  22.49 dB\n",
      " EVM: 0.56 %,    0.56 %\n",
      "  MI: 5.97 bits, 5.97 bits\n",
      " GMI: 5.97 bits, 5.97 bits\n",
      "NGMI: 0.99,      0.99\n",
      "      pol.X      pol.Y      \n",
      " SER: 2.76e-02,  2.80e-02\n",
      " BER: 4.63e-03,  4.73e-03\n",
      " SNR: 21.13 dB,  21.12 dB\n",
      " EVM: 0.77 %,    0.77 %\n",
      "  MI: 5.88 bits, 5.88 bits\n",
      " GMI: 5.88 bits, 5.88 bits\n",
      "NGMI: 0.98,      0.98\n"
     ]
    },
    {
     "data": {
      "application/vnd.jupyter.widget-view+json": {
       "model_id": "3d64383b9ce047ef9dc660735b2ebba0",
       "version_major": 2,
       "version_minor": 0
      },
      "text/plain": [
       "  0%|          | 0/14 [00:00<?, ?it/s]"
      ]
     },
     "metadata": {},
     "output_type": "display_data"
    },
    {
     "name": "stdout",
     "output_type": "stream",
     "text": [
      "sigWDM power:  -0.99 dBm\n"
     ]
    },
    {
     "data": {
      "application/vnd.jupyter.widget-view+json": {
       "model_id": "14443298ff51497487995a5128c808c3",
       "version_major": 2,
       "version_minor": 0
      },
      "text/plain": [
       "  0%|          | 0/14 [00:00<?, ?it/s]"
      ]
     },
     "metadata": {},
     "output_type": "display_data"
    },
    {
     "name": "stdout",
     "output_type": "stream",
     "text": [
      "      pol.X      pol.Y      \n",
      " SER: 1.03e-02,  1.01e-02\n",
      " BER: 1.72e-03,  1.69e-03\n",
      " SNR: 22.27 dB,  22.22 dB\n",
      " EVM: 0.59 %,    0.60 %\n",
      "  MI: 5.96 bits, 5.95 bits\n",
      " GMI: 5.96 bits, 5.96 bits\n",
      "NGMI: 0.99,      0.99\n",
      "      pol.X      pol.Y      \n",
      " SER: 3.76e-02,  4.14e-02\n",
      " BER: 6.36e-03,  7.02e-03\n",
      " SNR: 20.70 dB,  20.52 dB\n",
      " EVM: 0.85 %,    0.89 %\n",
      "  MI: 5.84 bits, 5.82 bits\n",
      " GMI: 5.84 bits, 5.82 bits\n",
      "NGMI: 0.97,      0.97\n"
     ]
    },
    {
     "data": {
      "application/vnd.jupyter.widget-view+json": {
       "model_id": "0c45144f62424eec97a9bc37f2bf1beb",
       "version_major": 2,
       "version_minor": 0
      },
      "text/plain": [
       "  0%|          | 0/14 [00:00<?, ?it/s]"
      ]
     },
     "metadata": {},
     "output_type": "display_data"
    },
    {
     "name": "stdout",
     "output_type": "stream",
     "text": [
      "sigWDM power:  -0.49 dBm\n"
     ]
    },
    {
     "data": {
      "application/vnd.jupyter.widget-view+json": {
       "model_id": "57d51ab5458b4427bce97847265b6afb",
       "version_major": 2,
       "version_minor": 0
      },
      "text/plain": [
       "  0%|          | 0/14 [00:00<?, ?it/s]"
      ]
     },
     "metadata": {},
     "output_type": "display_data"
    },
    {
     "name": "stdout",
     "output_type": "stream",
     "text": [
      "      pol.X      pol.Y      \n",
      " SER: 1.39e-02,  1.28e-02\n",
      " BER: 2.34e-03,  2.15e-03\n",
      " SNR: 22.01 dB,  22.00 dB\n",
      " EVM: 0.63 %,    0.63 %\n",
      "  MI: 5.94 bits, 5.94 bits\n",
      " GMI: 5.94 bits, 5.95 bits\n",
      "NGMI: 0.99,      0.99\n",
      "      pol.X      pol.Y      \n",
      " SER: 5.37e-02,  5.23e-02\n",
      " BER: 9.14e-03,  8.90e-03\n",
      " SNR: 20.15 dB,  20.14 dB\n",
      " EVM: 0.97 %,    0.97 %\n",
      "  MI: 5.77 bits, 5.77 bits\n",
      " GMI: 5.77 bits, 5.78 bits\n",
      "NGMI: 0.96,      0.96\n"
     ]
    }
   ],
   "source": [
    "# optical channel parameters\n",
    "paramCh = parameters()\n",
    "paramCh.Ltotal = 700     # total link distance [km]\n",
    "paramCh.Lspan  = 50      # span length [km]\n",
    "paramCh.alpha = 0.2      # fiber loss parameter [dB/km]\n",
    "paramCh.D = 16           # fiber dispersion parameter [ps/nm/km]\n",
    "paramCh.gamma = 1.3      # fiber nonlinear parameter [1/(W.km)]\n",
    "paramCh.Fc = paramTx.Fc  # central optical frequency of the WDM spectrum\n",
    "paramCh.hz = 0.5         # step-size of the split-step Fourier method [km]\n",
    "paramCh.maxIter = 5      # maximum number of convergence iterations per step\n",
    "paramCh.tol = 1e-5       # error tolerance per step\n",
    "paramCh.nlprMethod = True # use adaptive step-size based o maximum nonlinear phase-shift?\n",
    "paramCh.maxNlinPhaseRot = 2e-2 # maximum nonlinear phase-shift per step\n",
    "paramCh.prgsBar = True   # show progress bar?\n",
    "#paramCh.saveSpanN = [1, 5, 9, 14]\n",
    "Fs = paramTx.Rs*paramTx.SpS # sampling rate\n",
    "\n",
    "# DBP parameters\n",
    "paramDBP = deepcopy(paramCh)\n",
    "paramDBP.nlprMethod = False\n",
    "paramDBP.hz = 10\n",
    "runDBP = True\n",
    "\n",
    "### Receiver parameters\n",
    "\n",
    "Fc = paramCh.Fc\n",
    "Ts = 1/Fs\n",
    "freqGrid = paramTx.freqGrid\n",
    "    \n",
    "## LO parameters\n",
    "FO      = 150e6                 # frequency offset\n",
    "lw      = 100e3                 # linewidth\n",
    "Plo_dBm = 10                    # power in dBm\n",
    "Plo     = 10**(Plo_dBm/10)*1e-3 # power in W\n",
    "ϕ_lo    = 0                     # initial phase in rad    \n",
    "\n",
    "## photodiodes parameters\n",
    "paramPD = parameters()\n",
    "paramPD.B = paramTx.Rs\n",
    "paramPD.Fs = Fs    \n",
    "paramPD.ideal = True\n",
    "    \n",
    "Powers = paramTx.Pch_dBm + np.arange(-8,0,0.5)\n",
    "scale = np.arange(-8,0,0.5)\n",
    "\n",
    "BER = np.zeros((4,len(Powers)))\n",
    "SER = np.zeros((4,len(Powers)))\n",
    "MI  = np.zeros((4,len(Powers)))\n",
    "GMI = np.zeros((4,len(Powers)))\n",
    "NGMI = np.zeros((4,len(Powers)))\n",
    "SNR = np.zeros((4,len(Powers)))\n",
    "EVM = np.zeros((4,len(Powers)))\n",
    "\n",
    "for indP, G in enumerate(tqdm(scale)):\n",
    "    # nonlinear signal propagation\n",
    "    G_lin = 10**(G/10)\n",
    "\n",
    "    sigWDM, paramCh = manakovSSF(np.sqrt(G_lin)*sigWDM_Tx, Fs, paramCh)\n",
    "    print('Fiber launch power per WDM channel: ', round(10*np.log10(signal_power(sigWDM)/paramTx.Nch /1e-3),2),'dBm')\n",
    "    \n",
    "    ### WDM channels coherent detection and demodulation\n",
    "\n",
    "    ### Receiver\n",
    "\n",
    "    # parameters\n",
    "    chIndex  = int(np.floor(paramTx.Nch/2))      # index of the channel to be demodulated\n",
    "\n",
    "#     print('Demodulating channel #%d , fc: %.4f THz, λ: %.4f nm\\n'\\\n",
    "#           %(chIndex, (Fc + freqGrid[chIndex])/1e12, const.c/(Fc + freqGrid[chIndex])/1e-9))\n",
    "\n",
    "    symbTx = symbTx_[:,:,chIndex]\n",
    "\n",
    "    #  set local oscillator (LO) parameters:   \n",
    "    Δf_lo   = freqGrid[chIndex]+FO  # downshift of the channel to be demodulated\n",
    "\n",
    "    # generate LO field\n",
    "    π       = np.pi\n",
    "    t       = np.arange(0, len(sigWDM))*Ts\n",
    "    ϕ_pn_lo = phaseNoise(lw, len(sigWDM), Ts)\n",
    "    sigLO   = np.sqrt(Plo)*np.exp(1j*(2*π*Δf_lo*t + ϕ_lo + ϕ_pn_lo))\n",
    "\n",
    "    #### polarization multiplexed coherent optical receiver\n",
    "    θsig = π/3 # polarization rotation angle\n",
    "    sigRx_coh = pdmCoherentReceiver(sigWDM, sigLO, θsig, paramPD)\n",
    "\n",
    "    for runDBP in [True, False]:\n",
    "        ### Matched filtering and CD compensation\n",
    "        \n",
    "        # Rx filtering\n",
    "    \n",
    "        # Matched filtering\n",
    "        if paramTx.pulse == 'nrz':\n",
    "            pulse = pulseShape('nrz', paramTx.SpS)\n",
    "        elif paramTx.pulse == 'rrc':\n",
    "            pulse = pulseShape('rrc', paramTx.SpS, N=paramTx.Ntaps, alpha=paramTx.alphaRRC, Ts=1/paramTx.Rs)\n",
    "\n",
    "        pulse = pnorm(pulse)\n",
    "        sigRx = firFilter(pulse, sigRx_coh)  \n",
    "\n",
    "        # CD compensation/digital backpropagation\n",
    "        if runDBP:\n",
    "            Pch = 10**((G + paramTx.Pch_dBm)/10)*1e-3\n",
    "            sigRx = np.sqrt(Pch/2)*pnorm(sigRx)\n",
    "            #print('channel input power (DBP): ', round(10*np.log10(signal_power(sigRx)/1e-3),3),'dBm')\n",
    "\n",
    "            sigRx,_ = manakovDBP(sigRx, Fs, paramDBP)    \n",
    "        else:\n",
    "            sigRx = edc(sigRx, paramCh.Ltotal, paramCh.D, Fc-Δf_lo, Fs)\n",
    "\n",
    "        ### Downsampling to 2 samples/symbol and re-synchronization with transmitted sequences\n",
    "\n",
    "        # decimation\n",
    "        paramDec = parameters()\n",
    "        paramDec.SpS_in  = paramTx.SpS\n",
    "        paramDec.SpS_out = 2\n",
    "        sigRx = decimate(sigRx, paramDec)\n",
    "\n",
    "        symbRx = symbolSync(sigRx, symbTx, 2)\n",
    "\n",
    "        ### Power normalization\n",
    "\n",
    "        x = pnorm(sigRx)\n",
    "        d = pnorm(symbRx)\n",
    "\n",
    "        ### Adaptive equalization\n",
    "\n",
    "        # adaptive equalization parameters\n",
    "        paramEq = parameters()\n",
    "        paramEq.nTaps = 15\n",
    "        paramEq.SpS = paramDec.SpS_out\n",
    "        paramEq.numIter = 5\n",
    "        paramEq.storeCoeff = False\n",
    "        paramEq.M = paramTx.M\n",
    "        paramEq.L = [int(0.2*d.shape[0]), int(0.8*d.shape[0])]\n",
    "        paramEq.prgsBar = False\n",
    "\n",
    "        if paramTx.M == 4:\n",
    "            paramEq.alg = ['cma','cma'] # QPSK\n",
    "            paramEq.mu = [5e-3, 1e-3] \n",
    "        else:\n",
    "            paramEq.alg = ['da-rde','rde'] # M-QAM\n",
    "            paramEq.mu = [5e-3, 2e-4] \n",
    "\n",
    "        y_EQ, H, errSq, Hiter = mimoAdaptEqualizer(x, dx=d, paramEq=paramEq)\n",
    "\n",
    "        ### Carrier phase recovery\n",
    "\n",
    "        paramCPR = parameters()\n",
    "        paramCPR.alg = 'bps'\n",
    "        paramCPR.M   = paramTx.M\n",
    "        paramCPR.N   = 75\n",
    "        paramCPR.B   = 64\n",
    "        paramCPR.pilotInd = np.arange(0, len(y_EQ), 20) \n",
    "\n",
    "        y_CPR, θ = cpr(y_EQ, symbTx=d, paramCPR=paramCPR)\n",
    "\n",
    "        y_CPR = pnorm(y_CPR)\n",
    "\n",
    "        discard = 5000\n",
    "\n",
    "        ### Evaluate transmission metrics\n",
    "\n",
    "        ind = np.arange(discard, d.shape[0]-discard)\n",
    "\n",
    "        # remove phase and polarization ambiguities for QPSK signals\n",
    "        if paramTx.M == 4:   \n",
    "            d = symbTx\n",
    "            # find rotations after CPR and/or polarizations swaps possibly added at the output the adaptive equalizer:\n",
    "            rot0 = [np.mean(pnorm(symbTx[ind,0])/pnorm(y_CPR[ind,0])), np.mean(pnorm(symbTx[ind,1])/pnorm(y_CPR[ind,0]))]\n",
    "            rot1 = [np.mean(pnorm(symbTx[ind,1])/pnorm(y_CPR[ind,1])), np.mean(pnorm(symbTx[ind,0])/pnorm(y_CPR[ind,1]))]\n",
    "\n",
    "            if np.argmax(np.abs(rot0)) == 1 and np.argmax(np.abs(rot1)) == 1:      \n",
    "                y_CPR_ = y_CPR.copy() \n",
    "                # undo swap and rotation \n",
    "                y_CPR[:,0] = pnorm(rot1[np.argmax(np.abs(rot1))]*y_CPR_[:,1]) \n",
    "                y_CPR[:,1] = pnorm(rot0[np.argmax(np.abs(rot0))]*y_CPR_[:,0])\n",
    "            else:\n",
    "                # undo rotation\n",
    "                y_CPR[:,0] = pnorm(rot0[np.argmax(np.abs(rot0))]*y_CPR[:,0])\n",
    "                y_CPR[:,1] = pnorm(rot1[np.argmax(np.abs(rot1))]*y_CPR[:,1])\n",
    "\n",
    "        if runDBP:\n",
    "            indsave = np.arange(0,2)\n",
    "        else:\n",
    "            indsave = np.arange(2,4)\n",
    "            \n",
    "        BER[indsave,indP], SER[indsave,indP], SNR[indsave,indP] = fastBERcalc(y_CPR[ind,:], d[ind,:], paramTx.M, 'qam')\n",
    "        GMI[indsave,indP], NGMI[indsave,indP] = monteCarloGMI(y_CPR[ind,:], d[ind,:], paramTx.M, 'qam')\n",
    "        MI[indsave,indP] = monteCarloMI(y_CPR[ind,:], d[ind,:], paramTx.M, 'qam')\n",
    "        EVM[indsave,indP] = calcEVM(y_CPR[ind,:], paramTx.M, 'qam', d[ind,:])\n",
    "\n",
    "        print('      pol.X      pol.Y      ')\n",
    "        print(' SER: %.2e,  %.2e'%(SER[indsave[0],indP], SER[indsave[1],indP]))\n",
    "        print(' BER: %.2e,  %.2e'%(BER[indsave[0],indP], BER[indsave[1],indP]))\n",
    "        print(' SNR: %.2f dB,  %.2f dB'%(SNR[indsave[0],indP], SNR[indsave[1],indP]))\n",
    "        print(' EVM: %.2f %%,    %.2f %%'%(EVM[indsave[0],indP]*100, EVM[indsave[1],indP]*100))\n",
    "        print('  MI: %.2f bits, %.2f bits'%(MI[indsave[0],indP], MI[indsave[1],indP]))\n",
    "        print(' GMI: %.2f bits, %.2f bits'%(GMI[indsave[0],indP], GMI[indsave[1],indP]))\n",
    "        print('NGMI: %.2f,      %.2f'%(NGMI[indsave[0],indP], NGMI[indsave[1],indP]))"
   ]
  },
  {
   "cell_type": "code",
   "execution_count": 27,
   "id": "affdb6e3",
   "metadata": {
    "ExecuteTime": {
     "end_time": "2023-04-04T17:20:58.408228Z",
     "start_time": "2023-04-04T17:20:57.869864Z"
    }
   },
   "outputs": [
    {
     "data": {
      "image/png": "[encoded data removed]",
      "text/plain": [
       "<Figure size 1296x648 with 4 Axes>"
      ]
     },
     "metadata": {
      "needs_background": "light"
     },
     "output_type": "display_data"
    }
   ],
   "source": [
    "fig, ax = plt.subplots(1,4, layout=\"constrained\", figsize=(18,9))\n",
    "\n",
    "ax[0].plot(Powers, np.log10(BER.T), '-*', label=['x-pol DBP', 'y-pol DBP', 'x-pol EDC', 'y-pol EDC']);\n",
    "ax[0].set_xlabel('Power [dBm]')\n",
    "ax[0].set_ylabel('log10(BER)')\n",
    "ax[0].legend()\n",
    "ax[0].grid()\n",
    "ax[0].set_box_aspect(0.75)\n",
    "ax[0].set_xlim(min(Powers), max(Powers))\n",
    "\n",
    "ax[1].plot(Powers, np.log10(SER.T), '-*', label=['x-pol DBP', 'y-pol DBP', 'x-pol EDC', 'y-pol EDC']);\n",
    "ax[1].set_xlabel('Power [dBm]')\n",
    "ax[1].set_ylabel('log10(SER)')\n",
    "ax[1].legend()\n",
    "ax[1].grid()\n",
    "ax[1].set_box_aspect(0.75)\n",
    "ax[1].set_xlim(min(Powers), max(Powers))\n",
    "\n",
    "ax[2].plot(Powers, SNR.T, '-*', label=['x-pol DBP', 'y-pol DBP', 'x-pol EDC', 'y-pol EDC']);\n",
    "ax[2].set_xlabel('Power [dBm]')\n",
    "ax[2].set_ylabel('SNR [dB]')\n",
    "ax[2].legend()\n",
    "ax[2].grid()\n",
    "ax[2].set_box_aspect(0.75)\n",
    "ax[2].set_xlim(min(Powers), max(Powers))\n",
    "\n",
    "ax[3].plot(Powers, GMI.T, '-*', label=['x-pol DBP', 'y-pol DBP', 'x-pol EDC', 'y-pol EDC']);\n",
    "ax[3].set_xlabel('Power [dBm]')\n",
    "ax[3].set_ylabel('GMI [bits]')\n",
    "ax[3].legend()\n",
    "ax[3].grid()\n",
    "ax[3].set_box_aspect(0.75);\n",
    "ax[3].set_xlim(min(Powers), max(Powers));\n",
    "\n",
    "#fig.tight_layout()\n",
    "#fig.set_size_inches(15, 20)"
   ]
  }
 ],
 "metadata": {
  "accelerator": "GPU",
  "colab": {
   "include_colab_link": true,
   "provenance": []
  },
  "jupytext": {
   "encoding": "# -*- coding: utf-8 -*-",
   "formats": "ipynb,py:light"
  },
  "kernelspec": {
   "display_name": "Python 3 (ipykernel)",
   "language": "python",
   "name": "python3"
  },
  "language_info": {
   "codemirror_mode": {
    "name": "ipython",
    "version": 3
   },
   "file_extension": ".py",
   "mimetype": "text/x-python",
   "name": "python",
   "nbconvert_exporter": "python",
   "pygments_lexer": "ipython3",
   "version": "3.9.7"
  },
  "toc": {
   "base_numbering": 1,
   "nav_menu": {},
   "number_sections": true,
   "sideBar": true,
   "skip_h1_title": true,
   "title_cell": "Table of Contents",
   "title_sidebar": "Contents",
   "toc_cell": true,
   "toc_position": {
    "height": "calc(100% - 180px)",
    "left": "10px",
    "top": "150px",
    "width": "261.719px"
   },
   "toc_section_display": true,
   "toc_window_display": false
  },
  "varInspector": {
   "cols": {
    "lenName": 16,
    "lenType": 16,
    "lenVar": 40
   },
   "kernels_config": {
    "python": {
     "delete_cmd_postfix": "",
     "delete_cmd_prefix": "del ",
     "library": "var_list.py",
     "varRefreshCmd": "print(var_dic_list())"
    },
    "r": {
     "delete_cmd_postfix": ") ",
     "delete_cmd_prefix": "rm(",
     "library": "var_list.r",
     "varRefreshCmd": "cat(var_dic_list()) "
    }
   },
   "position": {
    "height": "144.4px",
    "left": "1163px",
    "right": "20px",
    "top": "121px",
    "width": "350px"
   },
   "types_to_exclude": [
    "module",
    "function",
    "builtin_function_or_method",
    "instance",
    "_Feature"
   ],
   "window_display": false
  },
  "widgets": {
   "application/vnd.jupyter.widget-state+json": {
    "0cec9d9b71ba45018460f4942672e73b": {
     "model_module": "@jupyter-widgets/base",
     "model_module_version": "1.2.0",
     "model_name": "LayoutModel",
     "state": {
      "_model_module": "@jupyter-widgets/base",
      "_model_module_version": "1.2.0",
      "_model_name": "LayoutModel",
      "_view_count": null,
      "_view_module": "@jupyter-widgets/base",
      "_view_module_version": "1.2.0",
      "_view_name": "LayoutView",
      "align_content": null,
      "align_items": null,
      "align_self": null,
      "border": null,
      "bottom": null,
      "display": null,
      "flex": null,
      "flex_flow": null,
      "grid_area": null,
      "grid_auto_columns": null,
      "grid_auto_flow": null,
      "grid_auto_rows": null,
      "grid_column": null,
      "grid_gap": null,
      "grid_row": null,
      "grid_template_areas": null,
      "grid_template_columns": null,
      "grid_template_rows": null,
      "height": null,
      "justify_content": null,
      "justify_items": null,
      "left": null,
      "margin": null,
      "max_height": null,
      "max_width": null,
      "min_height": null,
      "min_width": null,
      "object_fit": null,
      "object_position": null,
      "order": null,
      "overflow": null,
      "overflow_x": null,
      "overflow_y": null,
      "padding": null,
      "right": null,
      "top": null,
      "visibility": null,
      "width": null
     }
    },
    "0d0d223577654c0980520ed48c4866a7": {
     "model_module": "@jupyter-widgets/controls",
     "model_module_version": "1.5.0",
     "model_name": "FloatProgressModel",
     "state": {
      "_dom_classes": [],
      "_model_module": "@jupyter-widgets/controls",
      "_model_module_version": "1.5.0",
      "_model_name": "FloatProgressModel",
      "_view_count": null,
      "_view_module": "@jupyter-widgets/controls",
      "_view_module_version": "1.5.0",
      "_view_name": "ProgressView",
      "bar_style": "success",
      "description": "",
      "description_tooltip": null,
      "layout": "IPY_MODEL_b70bb6363ff64ccbb7087900ef892eb5",
      "max": 14,
      "min": 0,
      "orientation": "horizontal",
      "style": "IPY_MODEL_d4247b94ef5c4a439cd4af9458125fc2",
      "value": 14
     }
    },
    "0ef4e5276a4344638674b547b859a129": {
     "model_module": "@jupyter-widgets/base",
     "model_module_version": "1.2.0",
     "model_name": "LayoutModel",
     "state": {
      "_model_module": "@jupyter-widgets/base",
      "_model_module_version": "1.2.0",
      "_model_name": "LayoutModel",
      "_view_count": null,
      "_view_module": "@jupyter-widgets/base",
      "_view_module_version": "1.2.0",
      "_view_name": "LayoutView",
      "align_content": null,
      "align_items": null,
      "align_self": null,
      "border": null,
      "bottom": null,
      "display": null,
      "flex": null,
      "flex_flow": null,
      "grid_area": null,
      "grid_auto_columns": null,
      "grid_auto_flow": null,
      "grid_auto_rows": null,
      "grid_column": null,
      "grid_gap": null,
      "grid_row": null,
      "grid_template_areas": null,
      "grid_template_columns": null,
      "grid_template_rows": null,
      "height": null,
      "justify_content": null,
      "justify_items": null,
      "left": null,
      "margin": null,
      "max_height": null,
      "max_width": null,
      "min_height": null,
      "min_width": null,
      "object_fit": null,
      "object_position": null,
      "order": null,
      "overflow": null,
      "overflow_x": null,
      "overflow_y": null,
      "padding": null,
      "right": null,
      "top": null,
      "visibility": null,
      "width": null
     }
    },
    "305e5dc45df947c4b3640746643c4a26": {
     "model_module": "@jupyter-widgets/controls",
     "model_module_version": "1.5.0",
     "model_name": "HBoxModel",
     "state": {
      "_dom_classes": [],
      "_model_module": "@jupyter-widgets/controls",
      "_model_module_version": "1.5.0",
      "_model_name": "HBoxModel",
      "_view_count": null,
      "_view_module": "@jupyter-widgets/controls",
      "_view_module_version": "1.5.0",
      "_view_name": "HBoxView",
      "box_style": "",
      "children": [
       "IPY_MODEL_b07e3d1c0eee407ba3a2b6b3498edb61",
       "IPY_MODEL_e0f8d22f269246b9b4ed8c6c7e61aeae",
       "IPY_MODEL_5b6ae8306e70477580b6203d44e33a38"
      ],
      "layout": "IPY_MODEL_0ef4e5276a4344638674b547b859a129"
     }
    },
    "32ef48a5dd1d4a2cb94e5409dd572d74": {
     "model_module": "@jupyter-widgets/base",
     "model_module_version": "1.2.0",
     "model_name": "LayoutModel",
     "state": {
      "_model_module": "@jupyter-widgets/base",
      "_model_module_version": "1.2.0",
      "_model_name": "LayoutModel",
      "_view_count": null,
      "_view_module": "@jupyter-widgets/base",
      "_view_module_version": "1.2.0",
      "_view_name": "LayoutView",
      "align_content": null,
      "align_items": null,
      "align_self": null,
      "border": null,
      "bottom": null,
      "display": null,
      "flex": null,
      "flex_flow": null,
      "grid_area": null,
      "grid_auto_columns": null,
      "grid_auto_flow": null,
      "grid_auto_rows": null,
      "grid_column": null,
      "grid_gap": null,
      "grid_row": null,
      "grid_template_areas": null,
      "grid_template_columns": null,
      "grid_template_rows": null,
      "height": null,
      "justify_content": null,
      "justify_items": null,
      "left": null,
      "margin": null,
      "max_height": null,
      "max_width": null,
      "min_height": null,
      "min_width": null,
      "object_fit": null,
      "object_position": null,
      "order": null,
      "overflow": null,
      "overflow_x": null,
      "overflow_y": null,
      "padding": null,
      "right": null,
      "top": null,
      "visibility": null,
      "width": null
     }
    },
    "5773596ed660451aac75b1f0b2a052e5": {
     "model_module": "@jupyter-widgets/base",
     "model_module_version": "1.2.0",
     "model_name": "LayoutModel",
     "state": {
      "_model_module": "@jupyter-widgets/base",
      "_model_module_version": "1.2.0",
      "_model_name": "LayoutModel",
      "_view_count": null,
      "_view_module": "@jupyter-widgets/base",
      "_view_module_version": "1.2.0",
      "_view_name": "LayoutView",
      "align_content": null,
      "align_items": null,
      "align_self": null,
      "border": null,
      "bottom": null,
      "display": null,
      "flex": null,
      "flex_flow": null,
      "grid_area": null,
      "grid_auto_columns": null,
      "grid_auto_flow": null,
      "grid_auto_rows": null,
      "grid_column": null,
      "grid_gap": null,
      "grid_row": null,
      "grid_template_areas": null,
      "grid_template_columns": null,
      "grid_template_rows": null,
      "height": null,
      "justify_content": null,
      "justify_items": null,
      "left": null,
      "margin": null,
      "max_height": null,
      "max_width": null,
      "min_height": null,
      "min_width": null,
      "object_fit": null,
      "object_position": null,
      "order": null,
      "overflow": null,
      "overflow_x": null,
      "overflow_y": null,
      "padding": null,
      "right": null,
      "top": null,
      "visibility": null,
      "width": null
     }
    },
    "596d425cdf7f4a0697238e3664c5195f": {
     "model_module": "@jupyter-widgets/controls",
     "model_module_version": "1.5.0",
     "model_name": "DescriptionStyleModel",
     "state": {
      "_model_module": "@jupyter-widgets/controls",
      "_model_module_version": "1.5.0",
      "_model_name": "DescriptionStyleModel",
      "_view_count": null,
      "_view_module": "@jupyter-widgets/base",
      "_view_module_version": "1.2.0",
      "_view_name": "StyleView",
      "description_width": ""
     }
    },
    "5b6ae8306e70477580b6203d44e33a38": {
     "model_module": "@jupyter-widgets/controls",
     "model_module_version": "1.5.0",
     "model_name": "HTMLModel",
     "state": {
      "_dom_classes": [],
      "_model_module": "@jupyter-widgets/controls",
      "_model_module_version": "1.5.0",
      "_model_name": "HTMLModel",
      "_view_count": null,
      "_view_module": "@jupyter-widgets/controls",
      "_view_module_version": "1.5.0",
      "_view_name": "HTMLView",
      "description": "",
      "description_tooltip": null,
      "layout": "IPY_MODEL_5773596ed660451aac75b1f0b2a052e5",
      "placeholder": "​",
      "style": "IPY_MODEL_f6e0856c07ed4069940d749b31c5d6d5",
      "value": " 5/5 [00:29&lt;00:00,  2.62s/it]"
     }
    },
    "6a786005faa04fd8b7c5e69dc70df06a": {
     "model_module": "@jupyter-widgets/base",
     "model_module_version": "1.2.0",
     "model_name": "LayoutModel",
     "state": {
      "_model_module": "@jupyter-widgets/base",
      "_model_module_version": "1.2.0",
      "_model_name": "LayoutModel",
      "_view_count": null,
      "_view_module": "@jupyter-widgets/base",
      "_view_module_version": "1.2.0",
      "_view_name": "LayoutView",
      "align_content": null,
      "align_items": null,
      "align_self": null,
      "border": null,
      "bottom": null,
      "display": null,
      "flex": null,
      "flex_flow": null,
      "grid_area": null,
      "grid_auto_columns": null,
      "grid_auto_flow": null,
      "grid_auto_rows": null,
      "grid_column": null,
      "grid_gap": null,
      "grid_row": null,
      "grid_template_areas": null,
      "grid_template_columns": null,
      "grid_template_rows": null,
      "height": null,
      "justify_content": null,
      "justify_items": null,
      "left": null,
      "margin": null,
      "max_height": null,
      "max_width": null,
      "min_height": null,
      "min_width": null,
      "object_fit": null,
      "object_position": null,
      "order": null,
      "overflow": null,
      "overflow_x": null,
      "overflow_y": null,
      "padding": null,
      "right": null,
      "top": null,
      "visibility": null,
      "width": null
     }
    },
    "7b1b87f7b77049a691df25723928eef3": {
     "model_module": "@jupyter-widgets/base",
     "model_module_version": "1.2.0",
     "model_name": "LayoutModel",
     "state": {
      "_model_module": "@jupyter-widgets/base",
      "_model_module_version": "1.2.0",
      "_model_name": "LayoutModel",
      "_view_count": null,
      "_view_module": "@jupyter-widgets/base",
      "_view_module_version": "1.2.0",
      "_view_name": "LayoutView",
      "align_content": null,
      "align_items": null,
      "align_self": null,
      "border": null,
      "bottom": null,
      "display": null,
      "flex": null,
      "flex_flow": null,
      "grid_area": null,
      "grid_auto_columns": null,
      "grid_auto_flow": null,
      "grid_auto_rows": null,
      "grid_column": null,
      "grid_gap": null,
      "grid_row": null,
      "grid_template_areas": null,
      "grid_template_columns": null,
      "grid_template_rows": null,
      "height": null,
      "justify_content": null,
      "justify_items": null,
      "left": null,
      "margin": null,
      "max_height": null,
      "max_width": null,
      "min_height": null,
      "min_width": null,
      "object_fit": null,
      "object_position": null,
      "order": null,
      "overflow": null,
      "overflow_x": null,
      "overflow_y": null,
      "padding": null,
      "right": null,
      "top": null,
      "visibility": null,
      "width": null
     }
    },
    "92a22dde2b5e4ab882f824d5dff0d377": {
     "model_module": "@jupyter-widgets/controls",
     "model_module_version": "1.5.0",
     "model_name": "HTMLModel",
     "state": {
      "_dom_classes": [],
      "_model_module": "@jupyter-widgets/controls",
      "_model_module_version": "1.5.0",
      "_model_name": "HTMLModel",
      "_view_count": null,
      "_view_module": "@jupyter-widgets/controls",
      "_view_module_version": "1.5.0",
      "_view_name": "HTMLView",
      "description": "",
      "description_tooltip": null,
      "layout": "IPY_MODEL_6a786005faa04fd8b7c5e69dc70df06a",
      "placeholder": "​",
      "style": "IPY_MODEL_994d17059a9b47f0b2ed3654712fb0c3",
      "value": " 14/14 [00:57&lt;00:00,  3.82s/it]"
     }
    },
    "994d17059a9b47f0b2ed3654712fb0c3": {
     "model_module": "@jupyter-widgets/controls",
     "model_module_version": "1.5.0",
     "model_name": "DescriptionStyleModel",
     "state": {
      "_model_module": "@jupyter-widgets/controls",
      "_model_module_version": "1.5.0",
      "_model_name": "DescriptionStyleModel",
      "_view_count": null,
      "_view_module": "@jupyter-widgets/base",
      "_view_module_version": "1.2.0",
      "_view_name": "StyleView",
      "description_width": ""
     }
    },
    "9eef6ad9e86b4434b244d76fb90653b2": {
     "model_module": "@jupyter-widgets/base",
     "model_module_version": "1.2.0",
     "model_name": "LayoutModel",
     "state": {
      "_model_module": "@jupyter-widgets/base",
      "_model_module_version": "1.2.0",
      "_model_name": "LayoutModel",
      "_view_count": null,
      "_view_module": "@jupyter-widgets/base",
      "_view_module_version": "1.2.0",
      "_view_name": "LayoutView",
      "align_content": null,
      "align_items": null,
      "align_self": null,
      "border": null,
      "bottom": null,
      "display": null,
      "flex": null,
      "flex_flow": null,
      "grid_area": null,
      "grid_auto_columns": null,
      "grid_auto_flow": null,
      "grid_auto_rows": null,
      "grid_column": null,
      "grid_gap": null,
      "grid_row": null,
      "grid_template_areas": null,
      "grid_template_columns": null,
      "grid_template_rows": null,
      "height": null,
      "justify_content": null,
      "justify_items": null,
      "left": null,
      "margin": null,
      "max_height": null,
      "max_width": null,
      "min_height": null,
      "min_width": null,
      "object_fit": null,
      "object_position": null,
      "order": null,
      "overflow": null,
      "overflow_x": null,
      "overflow_y": null,
      "padding": null,
      "right": null,
      "top": null,
      "visibility": null,
      "width": null
     }
    },
    "b07e3d1c0eee407ba3a2b6b3498edb61": {
     "model_module": "@jupyter-widgets/controls",
     "model_module_version": "1.5.0",
     "model_name": "HTMLModel",
     "state": {
      "_dom_classes": [],
      "_model_module": "@jupyter-widgets/controls",
      "_model_module_version": "1.5.0",
      "_model_name": "HTMLModel",
      "_view_count": null,
      "_view_module": "@jupyter-widgets/controls",
      "_view_module_version": "1.5.0",
      "_view_name": "HTMLView",
      "description": "",
      "description_tooltip": null,
      "layout": "IPY_MODEL_0cec9d9b71ba45018460f4942672e73b",
      "placeholder": "​",
      "style": "IPY_MODEL_596d425cdf7f4a0697238e3664c5195f",
      "value": "100%"
     }
    },
    "b70bb6363ff64ccbb7087900ef892eb5": {
     "model_module": "@jupyter-widgets/base",
     "model_module_version": "1.2.0",
     "model_name": "LayoutModel",
     "state": {
      "_model_module": "@jupyter-widgets/base",
      "_model_module_version": "1.2.0",
      "_model_name": "LayoutModel",
      "_view_count": null,
      "_view_module": "@jupyter-widgets/base",
      "_view_module_version": "1.2.0",
      "_view_name": "LayoutView",
      "align_content": null,
      "align_items": null,
      "align_self": null,
      "border": null,
      "bottom": null,
      "display": null,
      "flex": null,
      "flex_flow": null,
      "grid_area": null,
      "grid_auto_columns": null,
      "grid_auto_flow": null,
      "grid_auto_rows": null,
      "grid_column": null,
      "grid_gap": null,
      "grid_row": null,
      "grid_template_areas": null,
      "grid_template_columns": null,
      "grid_template_rows": null,
      "height": null,
      "justify_content": null,
      "justify_items": null,
      "left": null,
      "margin": null,
      "max_height": null,
      "max_width": null,
      "min_height": null,
      "min_width": null,
      "object_fit": null,
      "object_position": null,
      "order": null,
      "overflow": null,
      "overflow_x": null,
      "overflow_y": null,
      "padding": null,
      "right": null,
      "top": null,
      "visibility": null,
      "width": null
     }
    },
    "c5a9e5d034e64b00b295e93140f51e72": {
     "model_module": "@jupyter-widgets/controls",
     "model_module_version": "1.5.0",
     "model_name": "DescriptionStyleModel",
     "state": {
      "_model_module": "@jupyter-widgets/controls",
      "_model_module_version": "1.5.0",
      "_model_name": "DescriptionStyleModel",
      "_view_count": null,
      "_view_module": "@jupyter-widgets/base",
      "_view_module_version": "1.2.0",
      "_view_name": "StyleView",
      "description_width": ""
     }
    },
    "d4247b94ef5c4a439cd4af9458125fc2": {
     "model_module": "@jupyter-widgets/controls",
     "model_module_version": "1.5.0",
     "model_name": "ProgressStyleModel",
     "state": {
      "_model_module": "@jupyter-widgets/controls",
      "_model_module_version": "1.5.0",
      "_model_name": "ProgressStyleModel",
      "_view_count": null,
      "_view_module": "@jupyter-widgets/base",
      "_view_module_version": "1.2.0",
      "_view_name": "StyleView",
      "bar_color": null,
      "description_width": ""
     }
    },
    "d751e4cdab95433f8fabdaebf41d630a": {
     "model_module": "@jupyter-widgets/controls",
     "model_module_version": "1.5.0",
     "model_name": "ProgressStyleModel",
     "state": {
      "_model_module": "@jupyter-widgets/controls",
      "_model_module_version": "1.5.0",
      "_model_name": "ProgressStyleModel",
      "_view_count": null,
      "_view_module": "@jupyter-widgets/base",
      "_view_module_version": "1.2.0",
      "_view_name": "StyleView",
      "bar_color": null,
      "description_width": ""
     }
    },
    "d7ec57b1b19d4660a0548563dd43f97c": {
     "model_module": "@jupyter-widgets/controls",
     "model_module_version": "1.5.0",
     "model_name": "HBoxModel",
     "state": {
      "_dom_classes": [],
      "_model_module": "@jupyter-widgets/controls",
      "_model_module_version": "1.5.0",
      "_model_name": "HBoxModel",
      "_view_count": null,
      "_view_module": "@jupyter-widgets/controls",
      "_view_module_version": "1.5.0",
      "_view_name": "HBoxView",
      "box_style": "",
      "children": [
       "IPY_MODEL_f973387453444cc4b5fbec8658506a3a",
       "IPY_MODEL_0d0d223577654c0980520ed48c4866a7",
       "IPY_MODEL_92a22dde2b5e4ab882f824d5dff0d377"
      ],
      "layout": "IPY_MODEL_7b1b87f7b77049a691df25723928eef3"
     }
    },
    "e0f8d22f269246b9b4ed8c6c7e61aeae": {
     "model_module": "@jupyter-widgets/controls",
     "model_module_version": "1.5.0",
     "model_name": "FloatProgressModel",
     "state": {
      "_dom_classes": [],
      "_model_module": "@jupyter-widgets/controls",
      "_model_module_version": "1.5.0",
      "_model_name": "FloatProgressModel",
      "_view_count": null,
      "_view_module": "@jupyter-widgets/controls",
      "_view_module_version": "1.5.0",
      "_view_name": "ProgressView",
      "bar_style": "success",
      "description": "",
      "description_tooltip": null,
      "layout": "IPY_MODEL_9eef6ad9e86b4434b244d76fb90653b2",
      "max": 5,
      "min": 0,
      "orientation": "horizontal",
      "style": "IPY_MODEL_d751e4cdab95433f8fabdaebf41d630a",
      "value": 5
     }
    },
    "f6e0856c07ed4069940d749b31c5d6d5": {
     "model_module": "@jupyter-widgets/controls",
     "model_module_version": "1.5.0",
     "model_name": "DescriptionStyleModel",
     "state": {
      "_model_module": "@jupyter-widgets/controls",
      "_model_module_version": "1.5.0",
      "_model_name": "DescriptionStyleModel",
      "_view_count": null,
      "_view_module": "@jupyter-widgets/base",
      "_view_module_version": "1.2.0",
      "_view_name": "StyleView",
      "description_width": ""
     }
    },
    "f973387453444cc4b5fbec8658506a3a": {
     "model_module": "@jupyter-widgets/controls",
     "model_module_version": "1.5.0",
     "model_name": "HTMLModel",
     "state": {
      "_dom_classes": [],
      "_model_module": "@jupyter-widgets/controls",
      "_model_module_version": "1.5.0",
      "_model_name": "HTMLModel",
      "_view_count": null,
      "_view_module": "@jupyter-widgets/controls",
      "_view_module_version": "1.5.0",
      "_view_name": "HTMLView",
      "description": "",
      "description_tooltip": null,
      "layout": "IPY_MODEL_32ef48a5dd1d4a2cb94e5409dd572d74",
      "placeholder": "​",
      "style": "IPY_MODEL_c5a9e5d034e64b00b295e93140f51e72",
      "value": "100%"
     }
    }
   }
  }
 },
 "nbformat": 4,
 "nbformat_minor": 5
}
