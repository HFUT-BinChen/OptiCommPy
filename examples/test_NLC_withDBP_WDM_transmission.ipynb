{
 "cells": [
  {
   "cell_type": "markdown",
   "id": "c6ee02f1",
   "metadata": {
    "colab_type": "text",
    "id": "view-in-github"
   },
   "source": [
    "<a href=\"https://colab.research.google.com/github/edsonportosilva/OptiCommPy/blob/main/examples/test_WDM_transmission.ipynb\" target=\"_parent\"><img src=\"https://colab.research.google.com/assets/colab-badge.svg\" alt=\"Open In Colab\"/></a>"
   ]
  },
  {
   "cell_type": "markdown",
   "id": "0270b2b0",
   "metadata": {
    "id": "0270b2b0"
   },
   "source": [
    "# Simulation of coherent WDM transmission"
   ]
  },
  {
   "cell_type": "code",
   "execution_count": 1,
   "id": "1ca1b9d6",
   "metadata": {
    "ExecuteTime": {
     "end_time": "2023-04-03T20:44:38.951800Z",
     "start_time": "2023-04-03T20:44:38.941827Z"
    },
    "colab": {
     "base_uri": "https://localhost:8080/"
    },
    "id": "1ca1b9d6",
    "outputId": "842dd4fc-f03a-4069-cf21-3ff634969be9"
   },
   "outputs": [],
   "source": [
    "if 'google.colab' in str(get_ipython()):    \n",
    "    ! git clone -b main https://github.com/edsonportosilva/OptiCommPy\n",
    "    from os import chdir as cd\n",
    "    cd('/content/OptiCommPy/')\n",
    "    ! pip install . "
   ]
  },
  {
   "cell_type": "code",
   "execution_count": 57,
   "id": "a4110d40",
   "metadata": {
    "ExecuteTime": {
     "end_time": "2023-04-03T21:28:15.786286Z",
     "start_time": "2023-04-03T21:28:15.715902Z"
    },
    "id": "a4110d40"
   },
   "outputs": [],
   "source": [
    "import matplotlib.pyplot as plt\n",
    "import numpy as np\n",
    "\n",
    "from optic.dsp import pulseShape, firFilter, decimate, symbolSync, pnorm\n",
    "from optic.models import phaseNoise, pdmCoherentReceiver\n",
    "\n",
    "try:\n",
    "    from optic.modelsGPU import manakovSSF, manakovDBP\n",
    "except:\n",
    "    from optic.models import manakovSSF\n",
    "\n",
    "from optic.tx import simpleWDMTx\n",
    "from optic.core import parameters\n",
    "from optic.equalization import edc, mimoAdaptEqualizer\n",
    "from optic.carrierRecovery import cpr\n",
    "from optic.metrics import fastBERcalc, monteCarloGMI, monteCarloMI, signal_power, calcEVM\n",
    "from optic.plot import pconst, plotPSD\n",
    "\n",
    "import scipy.constants as const\n",
    "\n",
    "import logging as logg\n",
    "logg.basicConfig(level=logg.INFO, format='%(message)s', force=True)\n",
    "\n",
    "from copy import deepcopy"
   ]
  },
  {
   "cell_type": "code",
   "execution_count": 3,
   "id": "7df01820",
   "metadata": {
    "ExecuteTime": {
     "end_time": "2023-04-03T20:44:41.013524Z",
     "start_time": "2023-04-03T20:44:41.002556Z"
    },
    "colab": {
     "base_uri": "https://localhost:8080/",
     "height": 17
    },
    "id": "7df01820",
    "outputId": "604d8ed4-041f-4280-ec2b-972c3a244a4d"
   },
   "outputs": [
    {
     "data": {
      "text/html": [
       "\n",
       "<style>\n",
       ".output_png {\n",
       "    display: table-cell;\n",
       "    text-align: center;\n",
       "    vertical-align: middle;\n",
       "}\n",
       "</style>\n"
      ],
      "text/plain": [
       "<IPython.core.display.HTML object>"
      ]
     },
     "execution_count": 3,
     "metadata": {},
     "output_type": "execute_result"
    }
   ],
   "source": [
    "from IPython.core.display import HTML\n",
    "from IPython.core.pylabtools import figsize\n",
    "\n",
    "HTML(\"\"\"\n",
    "<style>\n",
    ".output_png {\n",
    "    display: table-cell;\n",
    "    text-align: center;\n",
    "    vertical-align: middle;\n",
    "}\n",
    "</style>\n",
    "\"\"\")"
   ]
  },
  {
   "cell_type": "code",
   "execution_count": 4,
   "id": "b8626f68",
   "metadata": {
    "ExecuteTime": {
     "end_time": "2023-04-03T20:44:41.107455Z",
     "start_time": "2023-04-03T20:44:41.014493Z"
    },
    "id": "b8626f68"
   },
   "outputs": [],
   "source": [
    "figsize(10, 3)"
   ]
  },
  {
   "cell_type": "code",
   "execution_count": 5,
   "id": "fc09c144",
   "metadata": {
    "ExecuteTime": {
     "end_time": "2023-04-03T20:44:41.279365Z",
     "start_time": "2023-04-03T20:44:41.108323Z"
    },
    "id": "fc09c144"
   },
   "outputs": [],
   "source": [
    "%load_ext autoreload\n",
    "%autoreload 2\n",
    "#%load_ext line_profiler"
   ]
  },
  {
   "cell_type": "markdown",
   "id": "e22e32db",
   "metadata": {
    "id": "e22e32db"
   },
   "source": [
    "\n",
    "## Transmitter"
   ]
  },
  {
   "cell_type": "markdown",
   "id": "f01da2ca",
   "metadata": {
    "id": "f01da2ca"
   },
   "source": [
    "**Polarization multiplexed WDM signal generation**"
   ]
  },
  {
   "cell_type": "code",
   "execution_count": 42,
   "id": "51257869",
   "metadata": {
    "ExecuteTime": {
     "end_time": "2023-04-03T21:04:40.346954Z",
     "start_time": "2023-04-03T21:04:32.593931Z"
    },
    "colab": {
     "base_uri": "https://localhost:8080/"
    },
    "id": "51257869",
    "lines_to_next_cell": 0,
    "outputId": "4efb007d-d5fe-4d7d-ad28-f0bbffdd13fd"
   },
   "outputs": [
    {
     "data": {
      "application/vnd.jupyter.widget-view+json": {
       "model_id": "585efd6622c846c4859eae781ed67e48",
       "version_major": 2,
       "version_minor": 0
      },
      "text/plain": [
       "  0%|          | 0/11 [00:00<?, ?it/s]"
      ]
     },
     "metadata": {},
     "output_type": "display_data"
    },
    {
     "name": "stderr",
     "output_type": "stream",
     "text": [
      "channel 0\t fc : 192.9125 THz\n",
      "  mode #0\t power: -3.01 dBm\n",
      "  mode #1\t power: -3.01 dBm\n",
      "channel 0\t power: -0.00 dBm\n",
      "\n",
      "channel 1\t fc : 192.9500 THz\n",
      "  mode #0\t power: -3.01 dBm\n",
      "  mode #1\t power: -3.01 dBm\n",
      "channel 1\t power: -0.00 dBm\n",
      "\n",
      "channel 2\t fc : 192.9875 THz\n",
      "  mode #0\t power: -3.01 dBm\n",
      "  mode #1\t power: -3.01 dBm\n",
      "channel 2\t power: 0.00 dBm\n",
      "\n",
      "channel 3\t fc : 193.0250 THz\n",
      "  mode #0\t power: -3.01 dBm\n",
      "  mode #1\t power: -3.01 dBm\n",
      "channel 3\t power: -0.00 dBm\n",
      "\n",
      "channel 4\t fc : 193.0625 THz\n",
      "  mode #0\t power: -3.01 dBm\n",
      "  mode #1\t power: -3.01 dBm\n",
      "channel 4\t power: 0.00 dBm\n",
      "\n",
      "channel 5\t fc : 193.1000 THz\n",
      "  mode #0\t power: -3.01 dBm\n",
      "  mode #1\t power: -3.01 dBm\n",
      "channel 5\t power: -0.00 dBm\n",
      "\n",
      "channel 6\t fc : 193.1375 THz\n",
      "  mode #0\t power: -3.01 dBm\n",
      "  mode #1\t power: -3.01 dBm\n",
      "channel 6\t power: 0.00 dBm\n",
      "\n",
      "channel 7\t fc : 193.1750 THz\n",
      "  mode #0\t power: -3.01 dBm\n",
      "  mode #1\t power: -3.01 dBm\n",
      "channel 7\t power: -0.00 dBm\n",
      "\n",
      "channel 8\t fc : 193.2125 THz\n",
      "  mode #0\t power: -3.01 dBm\n",
      "  mode #1\t power: -3.01 dBm\n",
      "channel 8\t power: -0.00 dBm\n",
      "\n",
      "channel 9\t fc : 193.2500 THz\n",
      "  mode #0\t power: -3.01 dBm\n",
      "  mode #1\t power: -3.01 dBm\n",
      "channel 9\t power: 0.00 dBm\n",
      "\n",
      "channel 10\t fc : 193.2875 THz\n",
      "  mode #0\t power: -3.01 dBm\n",
      "  mode #1\t power: -3.01 dBm\n",
      "channel 10\t power: -0.00 dBm\n",
      "\n",
      "total WDM signal power: 10.41 dBm\n"
     ]
    }
   ],
   "source": [
    "# Transmitter parameters:\n",
    "paramTx = parameters()\n",
    "paramTx.M   = 64           # order of the modulation format\n",
    "paramTx.Rs  = 32e9         # symbol rate [baud]\n",
    "paramTx.SpS = 16           # samples per symbol\n",
    "paramTx.pulse = 'rrc'      # pulse shaping filter\n",
    "paramTx.Ntaps = 2*4096     # number of pulse shaping filter coefficients\n",
    "paramTx.alphaRRC = 0.01    # RRC rolloff\n",
    "paramTx.Pch_dBm = 0        # power per WDM channel [dBm]\n",
    "paramTx.Nch     = 11       # number of WDM channels\n",
    "paramTx.Fc      = 193.1e12 # central optical frequency of the WDM spectrum\n",
    "paramTx.lw      = 100e3    # laser linewidth in Hz\n",
    "paramTx.freqSpac = 37.5e9  # WDM grid spacing\n",
    "paramTx.Nmodes = 2         # number of signal modes [2 for polarization multiplexed signals]\n",
    "paramTx.Nbits = int(np.log2(paramTx.M)*1e5) # total number of bits per polarization\n",
    "\n",
    "# generate WDM signal\n",
    "sigWDM_Tx, symbTx_, paramTx = simpleWDMTx(paramTx)"
   ]
  },
  {
   "cell_type": "markdown",
   "id": "0cb851bf",
   "metadata": {
    "id": "0cb851bf"
   },
   "source": [
    "**Nonlinear fiber propagation with the split-step Fourier method**"
   ]
  },
  {
   "cell_type": "code",
   "execution_count": null,
   "id": "05599d49",
   "metadata": {
    "ExecuteTime": {
     "start_time": "2023-04-03T21:28:38.259Z"
    },
    "colab": {
     "base_uri": "https://localhost:8080/",
     "height": 49,
     "referenced_widgets": [
      "d7ec57b1b19d4660a0548563dd43f97c",
      "f973387453444cc4b5fbec8658506a3a",
      "0d0d223577654c0980520ed48c4866a7",
      "92a22dde2b5e4ab882f824d5dff0d377",
      "7b1b87f7b77049a691df25723928eef3",
      "32ef48a5dd1d4a2cb94e5409dd572d74",
      "c5a9e5d034e64b00b295e93140f51e72",
      "b70bb6363ff64ccbb7087900ef892eb5",
      "d4247b94ef5c4a439cd4af9458125fc2",
      "6a786005faa04fd8b7c5e69dc70df06a",
      "994d17059a9b47f0b2ed3654712fb0c3"
     ]
    },
    "id": "05599d49",
    "outputId": "debb83bb-27f7-46f4-be76-89fc838c11ac",
    "scrolled": false
   },
   "outputs": [
    {
     "data": {
      "application/vnd.jupyter.widget-view+json": {
       "model_id": "fb816029211c4e26ac5b158e763187e5",
       "version_major": 2,
       "version_minor": 0
      },
      "text/plain": [
       "  0%|          | 0/14 [00:00<?, ?it/s]"
      ]
     },
     "metadata": {},
     "output_type": "display_data"
    },
    {
     "name": "stdout",
     "output_type": "stream",
     "text": [
      "sigWDM power:  -4.97 dBm\n",
      "channel input power (DBP):  -5.0 dBm\n"
     ]
    },
    {
     "data": {
      "application/vnd.jupyter.widget-view+json": {
       "model_id": "13d7198546ba45c898acfe0eb3d47738",
       "version_major": 2,
       "version_minor": 0
      },
      "text/plain": [
       "  0%|          | 0/14 [00:00<?, ?it/s]"
      ]
     },
     "metadata": {},
     "output_type": "display_data"
    },
    {
     "name": "stderr",
     "output_type": "stream",
     "text": [
      "da-rde - training stage #0\n",
      "da-rde pre-convergence training iteration #0\n",
      "da-rde MSE = 0.020299.\n",
      "da-rde pre-convergence training iteration #1\n",
      "da-rde MSE = 0.018172.\n",
      "da-rde pre-convergence training iteration #2\n",
      "da-rde MSE = 0.018123.\n",
      "da-rde pre-convergence training iteration #3\n",
      "da-rde MSE = 0.018089.\n",
      "da-rde pre-convergence training iteration #4\n",
      "da-rde MSE = 0.018064.\n",
      "rde - training stage #1\n",
      "rde MSE = 0.007341.\n"
     ]
    },
    {
     "name": "stdout",
     "output_type": "stream",
     "text": [
      "      pol.X      pol.Y      \n",
      " SER: 1.90e-02,  1.81e-02\n",
      " BER: 3.19e-03,  3.02e-03\n",
      " SNR: 21.47 dB,  21.53 dB\n",
      " EVM: 0.71 %,    0.70 %\n",
      "  MI: 5.92 bits, 5.92 bits\n",
      " GMI: 5.92 bits, 5.93 bits\n",
      "NGMI: 0.99,      0.99\n"
     ]
    },
    {
     "data": {
      "application/vnd.jupyter.widget-view+json": {
       "model_id": "87317fc858df4f4c8f502ed0cb68fec5",
       "version_major": 2,
       "version_minor": 0
      },
      "text/plain": [
       "  0%|          | 0/14 [00:00<?, ?it/s]"
      ]
     },
     "metadata": {},
     "output_type": "display_data"
    },
    {
     "name": "stdout",
     "output_type": "stream",
     "text": [
      "sigWDM power:  -4.47 dBm\n",
      "channel input power (DBP):  -4.5 dBm\n"
     ]
    },
    {
     "data": {
      "application/vnd.jupyter.widget-view+json": {
       "model_id": "11ccc48967464122abb2e0ec93e1f7b5",
       "version_major": 2,
       "version_minor": 0
      },
      "text/plain": [
       "  0%|          | 0/14 [00:00<?, ?it/s]"
      ]
     },
     "metadata": {},
     "output_type": "display_data"
    },
    {
     "name": "stderr",
     "output_type": "stream",
     "text": [
      "da-rde - training stage #0\n",
      "da-rde pre-convergence training iteration #0\n",
      "da-rde MSE = 0.018389.\n",
      "da-rde pre-convergence training iteration #1\n",
      "da-rde MSE = 0.016244.\n",
      "da-rde pre-convergence training iteration #2\n",
      "da-rde MSE = 0.016194.\n",
      "da-rde pre-convergence training iteration #3\n",
      "da-rde MSE = 0.016159.\n",
      "da-rde pre-convergence training iteration #4\n",
      "da-rde MSE = 0.016134.\n",
      "rde - training stage #1\n",
      "rde MSE = 0.007087.\n"
     ]
    },
    {
     "name": "stdout",
     "output_type": "stream",
     "text": [
      "      pol.X      pol.Y      \n",
      " SER: 1.39e-02,  1.43e-02\n",
      " BER: 2.33e-03,  2.39e-03\n",
      " SNR: 21.86 dB,  21.79 dB\n",
      " EVM: 0.65 %,    0.66 %\n",
      "  MI: 5.94 bits, 5.94 bits\n",
      " GMI: 5.94 bits, 5.94 bits\n",
      "NGMI: 0.99,      0.99\n"
     ]
    },
    {
     "data": {
      "application/vnd.jupyter.widget-view+json": {
       "model_id": "1028b42cc85a490db96b0cc9ffdf7815",
       "version_major": 2,
       "version_minor": 0
      },
      "text/plain": [
       "  0%|          | 0/14 [00:00<?, ?it/s]"
      ]
     },
     "metadata": {},
     "output_type": "display_data"
    },
    {
     "name": "stdout",
     "output_type": "stream",
     "text": [
      "sigWDM power:  -3.97 dBm\n",
      "channel input power (DBP):  -4.0 dBm\n"
     ]
    },
    {
     "data": {
      "application/vnd.jupyter.widget-view+json": {
       "model_id": "1b78b63d0dc74260bf70f6f7f5be7c55",
       "version_major": 2,
       "version_minor": 0
      },
      "text/plain": [
       "  0%|          | 0/14 [00:00<?, ?it/s]"
      ]
     },
     "metadata": {},
     "output_type": "display_data"
    },
    {
     "name": "stderr",
     "output_type": "stream",
     "text": [
      "da-rde - training stage #0\n",
      "da-rde pre-convergence training iteration #0\n",
      "da-rde MSE = 0.016618.\n",
      "da-rde pre-convergence training iteration #1\n",
      "da-rde MSE = 0.014501.\n",
      "da-rde pre-convergence training iteration #2\n",
      "da-rde MSE = 0.014450.\n",
      "da-rde pre-convergence training iteration #3\n",
      "da-rde MSE = 0.014414.\n",
      "da-rde pre-convergence training iteration #4\n",
      "da-rde MSE = 0.014389.\n",
      "rde - training stage #1\n",
      "rde MSE = 0.006958.\n"
     ]
    },
    {
     "name": "stdout",
     "output_type": "stream",
     "text": [
      "      pol.X      pol.Y      \n",
      " SER: 1.15e-02,  1.15e-02\n",
      " BER: 1.93e-03,  1.91e-03\n",
      " SNR: 22.12 dB,  22.07 dB\n",
      " EVM: 0.61 %,    0.62 %\n",
      "  MI: 5.95 bits, 5.95 bits\n",
      " GMI: 5.95 bits, 5.95 bits\n",
      "NGMI: 0.99,      0.99\n"
     ]
    },
    {
     "data": {
      "application/vnd.jupyter.widget-view+json": {
       "model_id": "f99ca3f15ba64f499c3ae6d00281c36f",
       "version_major": 2,
       "version_minor": 0
      },
      "text/plain": [
       "  0%|          | 0/14 [00:00<?, ?it/s]"
      ]
     },
     "metadata": {},
     "output_type": "display_data"
    },
    {
     "name": "stdout",
     "output_type": "stream",
     "text": [
      "sigWDM power:  -3.48 dBm\n",
      "channel input power (DBP):  -3.5 dBm\n"
     ]
    },
    {
     "data": {
      "application/vnd.jupyter.widget-view+json": {
       "model_id": "5e9b0fa321e9452084e551196a768931",
       "version_major": 2,
       "version_minor": 0
      },
      "text/plain": [
       "  0%|          | 0/14 [00:00<?, ?it/s]"
      ]
     },
     "metadata": {},
     "output_type": "display_data"
    },
    {
     "name": "stderr",
     "output_type": "stream",
     "text": [
      "da-rde - training stage #0\n",
      "da-rde pre-convergence training iteration #0\n",
      "da-rde MSE = 0.016258.\n",
      "da-rde pre-convergence training iteration #1\n",
      "da-rde MSE = 0.014096.\n",
      "da-rde pre-convergence training iteration #2\n",
      "da-rde MSE = 0.014052.\n",
      "da-rde pre-convergence training iteration #3\n",
      "da-rde MSE = 0.014021.\n",
      "da-rde pre-convergence training iteration #4\n",
      "da-rde MSE = 0.013999.\n",
      "rde - training stage #1\n",
      "rde MSE = 0.006756.\n"
     ]
    },
    {
     "name": "stdout",
     "output_type": "stream",
     "text": [
      "      pol.X      pol.Y      \n",
      " SER: 9.62e-03,  8.84e-03\n",
      " BER: 1.61e-03,  1.48e-03\n",
      " SNR: 22.31 dB,  22.32 dB\n",
      " EVM: 0.59 %,    0.59 %\n",
      "  MI: 5.96 bits, 5.96 bits\n",
      " GMI: 5.96 bits, 5.96 bits\n",
      "NGMI: 0.99,      0.99\n"
     ]
    },
    {
     "data": {
      "application/vnd.jupyter.widget-view+json": {
       "model_id": "84094521249d45bdaf556d8bb66e868d",
       "version_major": 2,
       "version_minor": 0
      },
      "text/plain": [
       "  0%|          | 0/14 [00:00<?, ?it/s]"
      ]
     },
     "metadata": {},
     "output_type": "display_data"
    },
    {
     "name": "stdout",
     "output_type": "stream",
     "text": [
      "sigWDM power:  -2.98 dBm\n",
      "channel input power (DBP):  -3.0 dBm\n"
     ]
    },
    {
     "data": {
      "application/vnd.jupyter.widget-view+json": {
       "model_id": "9be83bfcf84843bc9ba45fa80e395b95",
       "version_major": 2,
       "version_minor": 0
      },
      "text/plain": [
       "  0%|          | 0/14 [00:00<?, ?it/s]"
      ]
     },
     "metadata": {},
     "output_type": "display_data"
    },
    {
     "name": "stderr",
     "output_type": "stream",
     "text": [
      "da-rde - training stage #0\n",
      "da-rde pre-convergence training iteration #0\n",
      "da-rde MSE = 0.016992.\n",
      "da-rde pre-convergence training iteration #1\n",
      "da-rde MSE = 0.014697.\n",
      "da-rde pre-convergence training iteration #2\n",
      "da-rde MSE = 0.014648.\n",
      "da-rde pre-convergence training iteration #3\n",
      "da-rde MSE = 0.014613.\n",
      "da-rde pre-convergence training iteration #4\n",
      "da-rde MSE = 0.014587.\n",
      "rde - training stage #1\n",
      "rde MSE = 0.006664.\n"
     ]
    },
    {
     "name": "stdout",
     "output_type": "stream",
     "text": [
      "      pol.X      pol.Y      \n",
      " SER: 8.63e-03,  7.89e-03\n",
      " BER: 1.44e-03,  1.32e-03\n",
      " SNR: 22.45 dB,  22.48 dB\n",
      " EVM: 0.57 %,    0.56 %\n",
      "  MI: 5.97 bits, 5.96 bits\n",
      " GMI: 5.96 bits, 5.97 bits\n",
      "NGMI: 0.99,      0.99\n"
     ]
    },
    {
     "data": {
      "application/vnd.jupyter.widget-view+json": {
       "model_id": "6c35d4c918734c7cb18ddcacdb383bce",
       "version_major": 2,
       "version_minor": 0
      },
      "text/plain": [
       "  0%|          | 0/14 [00:00<?, ?it/s]"
      ]
     },
     "metadata": {},
     "output_type": "display_data"
    },
    {
     "name": "stdout",
     "output_type": "stream",
     "text": [
      "sigWDM power:  -2.48 dBm\n",
      "channel input power (DBP):  -2.5 dBm\n"
     ]
    },
    {
     "data": {
      "application/vnd.jupyter.widget-view+json": {
       "model_id": "d42925e4dfbb443ca01b27de915e1060",
       "version_major": 2,
       "version_minor": 0
      },
      "text/plain": [
       "  0%|          | 0/14 [00:00<?, ?it/s]"
      ]
     },
     "metadata": {},
     "output_type": "display_data"
    },
    {
     "name": "stderr",
     "output_type": "stream",
     "text": [
      "da-rde - training stage #0\n",
      "da-rde pre-convergence training iteration #0\n",
      "da-rde MSE = 0.016919.\n",
      "da-rde pre-convergence training iteration #1\n",
      "da-rde MSE = 0.012920.\n",
      "da-rde pre-convergence training iteration #2\n",
      "da-rde MSE = 0.012891.\n",
      "da-rde pre-convergence training iteration #3\n",
      "da-rde MSE = 0.012871.\n",
      "da-rde pre-convergence training iteration #4\n",
      "da-rde MSE = 0.012857.\n",
      "rde - training stage #1\n",
      "rde MSE = 0.006592.\n"
     ]
    },
    {
     "name": "stdout",
     "output_type": "stream",
     "text": [
      "      pol.X      pol.Y      \n",
      " SER: 7.26e-03,  7.84e-03\n",
      " BER: 1.21e-03,  1.31e-03\n",
      " SNR: 22.56 dB,  22.52 dB\n",
      " EVM: 0.55 %,    0.56 %\n",
      "  MI: 5.97 bits, 5.97 bits\n",
      " GMI: 5.97 bits, 5.97 bits\n",
      "NGMI: 0.99,      0.99\n"
     ]
    },
    {
     "data": {
      "application/vnd.jupyter.widget-view+json": {
       "model_id": "42ff2a147cf94ceab1ff3ecbcb6643e4",
       "version_major": 2,
       "version_minor": 0
      },
      "text/plain": [
       "  0%|          | 0/14 [00:00<?, ?it/s]"
      ]
     },
     "metadata": {},
     "output_type": "display_data"
    },
    {
     "name": "stdout",
     "output_type": "stream",
     "text": [
      "sigWDM power:  -1.98 dBm\n",
      "channel input power (DBP):  -2.0 dBm\n"
     ]
    },
    {
     "data": {
      "application/vnd.jupyter.widget-view+json": {
       "model_id": "dcd2f866b66747b3b9302d0da66abc7d",
       "version_major": 2,
       "version_minor": 0
      },
      "text/plain": [
       "  0%|          | 0/14 [00:00<?, ?it/s]"
      ]
     },
     "metadata": {},
     "output_type": "display_data"
    },
    {
     "name": "stderr",
     "output_type": "stream",
     "text": [
      "da-rde - training stage #0\n",
      "da-rde pre-convergence training iteration #0\n",
      "da-rde MSE = 0.019377.\n",
      "da-rde pre-convergence training iteration #1\n",
      "da-rde MSE = 0.013660.\n",
      "da-rde pre-convergence training iteration #2\n",
      "da-rde MSE = 0.013601.\n",
      "da-rde pre-convergence training iteration #3\n",
      "da-rde MSE = 0.013565.\n",
      "da-rde pre-convergence training iteration #4\n",
      "da-rde MSE = 0.013538.\n",
      "rde - training stage #1\n",
      "rde MSE = 0.006548.\n"
     ]
    },
    {
     "name": "stdout",
     "output_type": "stream",
     "text": [
      "      pol.X      pol.Y      \n",
      " SER: 8.47e-03,  7.59e-03\n",
      " BER: 1.42e-03,  1.27e-03\n",
      " SNR: 22.51 dB,  22.53 dB\n",
      " EVM: 0.56 %,    0.56 %\n",
      "  MI: 5.97 bits, 5.97 bits\n",
      " GMI: 5.96 bits, 5.97 bits\n",
      "NGMI: 0.99,      0.99\n"
     ]
    },
    {
     "data": {
      "application/vnd.jupyter.widget-view+json": {
       "model_id": "462834232bf845ca8f917b77799d609a",
       "version_major": 2,
       "version_minor": 0
      },
      "text/plain": [
       "  0%|          | 0/14 [00:00<?, ?it/s]"
      ]
     },
     "metadata": {},
     "output_type": "display_data"
    },
    {
     "name": "stdout",
     "output_type": "stream",
     "text": [
      "sigWDM power:  -1.49 dBm\n",
      "channel input power (DBP):  -1.5 dBm\n"
     ]
    },
    {
     "data": {
      "application/vnd.jupyter.widget-view+json": {
       "model_id": "2ca4c690efb045aaae9e4c45c2ee6b81",
       "version_major": 2,
       "version_minor": 0
      },
      "text/plain": [
       "  0%|          | 0/14 [00:00<?, ?it/s]"
      ]
     },
     "metadata": {},
     "output_type": "display_data"
    },
    {
     "name": "stderr",
     "output_type": "stream",
     "text": [
      "da-rde - training stage #0\n",
      "da-rde pre-convergence training iteration #0\n",
      "da-rde MSE = 0.022823.\n",
      "da-rde pre-convergence training iteration #1\n",
      "da-rde MSE = 0.013716.\n",
      "da-rde pre-convergence training iteration #2\n",
      "da-rde MSE = 0.013632.\n",
      "da-rde pre-convergence training iteration #3\n",
      "da-rde MSE = 0.013574.\n",
      "da-rde pre-convergence training iteration #4\n",
      "da-rde MSE = 0.013533.\n",
      "rde - training stage #1\n",
      "rde MSE = 0.006646.\n"
     ]
    },
    {
     "name": "stdout",
     "output_type": "stream",
     "text": [
      "      pol.X      pol.Y      \n",
      " SER: 9.51e-03,  7.81e-03\n",
      " BER: 1.59e-03,  1.30e-03\n",
      " SNR: 22.43 dB,  22.47 dB\n",
      " EVM: 0.57 %,    0.57 %\n",
      "  MI: 5.96 bits, 5.97 bits\n",
      " GMI: 5.96 bits, 5.97 bits\n",
      "NGMI: 0.99,      0.99\n"
     ]
    },
    {
     "data": {
      "application/vnd.jupyter.widget-view+json": {
       "model_id": "bdb768dcdf3d43dabbd60a2fc7de87b1",
       "version_major": 2,
       "version_minor": 0
      },
      "text/plain": [
       "  0%|          | 0/14 [00:00<?, ?it/s]"
      ]
     },
     "metadata": {},
     "output_type": "display_data"
    },
    {
     "name": "stdout",
     "output_type": "stream",
     "text": [
      "sigWDM power:  -0.99 dBm\n",
      "channel input power (DBP):  -1.0 dBm\n"
     ]
    },
    {
     "data": {
      "application/vnd.jupyter.widget-view+json": {
       "model_id": "ab14669957444fbfa9e447fd91468dbc",
       "version_major": 2,
       "version_minor": 0
      },
      "text/plain": [
       "  0%|          | 0/14 [00:00<?, ?it/s]"
      ]
     },
     "metadata": {},
     "output_type": "display_data"
    },
    {
     "name": "stderr",
     "output_type": "stream",
     "text": [
      "da-rde - training stage #0\n",
      "da-rde pre-convergence training iteration #0\n",
      "da-rde MSE = 0.023607.\n",
      "da-rde pre-convergence training iteration #1\n",
      "da-rde MSE = 0.013736.\n",
      "da-rde pre-convergence training iteration #2\n",
      "da-rde MSE = 0.013620.\n",
      "da-rde pre-convergence training iteration #3\n",
      "da-rde MSE = 0.013545.\n",
      "da-rde pre-convergence training iteration #4\n",
      "da-rde MSE = 0.013493.\n",
      "rde - training stage #1\n",
      "rde MSE = 0.006692.\n"
     ]
    },
    {
     "name": "stdout",
     "output_type": "stream",
     "text": [
      "      pol.X      pol.Y      \n",
      " SER: 9.33e-03,  9.17e-03\n",
      " BER: 1.56e-03,  1.53e-03\n",
      " SNR: 22.36 dB,  22.34 dB\n",
      " EVM: 0.58 %,    0.58 %\n",
      "  MI: 5.96 bits, 5.96 bits\n",
      " GMI: 5.96 bits, 5.96 bits\n",
      "NGMI: 0.99,      0.99\n"
     ]
    },
    {
     "data": {
      "application/vnd.jupyter.widget-view+json": {
       "model_id": "80d4a9a7c53b492c96928682520f058a",
       "version_major": 2,
       "version_minor": 0
      },
      "text/plain": [
       "  0%|          | 0/14 [00:00<?, ?it/s]"
      ]
     },
     "metadata": {},
     "output_type": "display_data"
    }
   ],
   "source": [
    "# optical channel parameters\n",
    "paramCh = parameters()\n",
    "paramCh.Ltotal = 700     # total link distance [km]\n",
    "paramCh.Lspan  = 50      # span length [km]\n",
    "paramCh.alpha = 0.2      # fiber loss parameter [dB/km]\n",
    "paramCh.D = 16           # fiber dispersion parameter [ps/nm/km]\n",
    "paramCh.gamma = 1.3      # fiber nonlinear parameter [1/(W.km)]\n",
    "paramCh.Fc = paramTx.Fc  # central optical frequency of the WDM spectrum\n",
    "paramCh.hz = 0.5         # step-size of the split-step Fourier method [km]\n",
    "paramCh.maxIter = 5      # maximum number of convergence iterations per step\n",
    "paramCh.tol = 1e-5       # error tolerance per step\n",
    "paramCh.nlprMethod = True # use adaptive step-size based o maximum nonlinear phase-shift?\n",
    "paramCh.maxNlinPhaseRot = 2e-2 # maximum nonlinear phase-shift per step\n",
    "paramCh.prgsBar = True   # show progress bar?\n",
    "#paramCh.saveSpanN = [1, 5, 9, 14]\n",
    "Fs = paramTx.Rs*paramTx.SpS # sampling rate\n",
    "\n",
    "# DBP parameters\n",
    "paramDBP = deepcopy(paramCh)\n",
    "paramDBP.nlprMethod = False\n",
    "paramDBP.hz = 10\n",
    "runDBP = True\n",
    "\n",
    "### Receiver parameters\n",
    "\n",
    "Fc = paramCh.Fc\n",
    "Ts = 1/Fs\n",
    "freqGrid = paramTx.freqGrid\n",
    "    \n",
    "## LO parameters\n",
    "FO      = 150e6                 # frequency offset\n",
    "lw      = 100e3                 # linewidth\n",
    "Plo_dBm = 10                    # power in dBm\n",
    "Plo     = 10**(Plo_dBm/10)*1e-3 # power in W\n",
    "ϕ_lo    = 0                     # initial phase in rad    \n",
    "\n",
    "## photodiodes parameters\n",
    "paramPD = parameters()\n",
    "paramPD.B = paramTx.Rs\n",
    "paramPD.Fs = Fs    \n",
    "paramPD.ideal = True\n",
    "    \n",
    "Powers = paramTx.Pch_dBm + np.arange(-5,2,0.5)\n",
    "scale = np.arange(-5,2,0.5)\n",
    "\n",
    "BER = np.zeros((2,len(Powers)))\n",
    "SER = np.zeros((2,len(Powers)))\n",
    "MI  = np.zeros((2,len(Powers)))\n",
    "GMI = np.zeros((2,len(Powers)))\n",
    "NGMI = np.zeros((2,len(Powers)))\n",
    "SNR = np.zeros((2,len(Powers)))\n",
    "EVM = np.zeros((2,len(Powers)))\n",
    "\n",
    "for indP, G in enumerate(scale):\n",
    "    # nonlinear signal propagation\n",
    "    G_lin = 10**(G/10)\n",
    "\n",
    "    sigWDM, paramCh = manakovSSF(np.sqrt(G_lin)*sigWDM_Tx, Fs, paramCh)\n",
    "    print('sigWDM power: ', round(10*np.log10(signal_power(sigWDM)/paramTx.Nch /1e-3),2),'dBm')\n",
    "    \n",
    "    ### WDM channels coherent detection and demodulation\n",
    "\n",
    "    ### Receiver\n",
    "\n",
    "    # parameters\n",
    "    chIndex  = int(np.floor(paramTx.Nch/2))      # index of the channel to be demodulated\n",
    "\n",
    "#     print('Demodulating channel #%d , fc: %.4f THz, λ: %.4f nm\\n'\\\n",
    "#           %(chIndex, (Fc + freqGrid[chIndex])/1e12, const.c/(Fc + freqGrid[chIndex])/1e-9))\n",
    "\n",
    "    symbTx = symbTx_[:,:,chIndex]\n",
    "\n",
    "    #  set local oscillator (LO) parameters:   \n",
    "    Δf_lo   = freqGrid[chIndex]+FO  # downshift of the channel to be demodulated\n",
    "\n",
    "    # generate LO field\n",
    "    π       = np.pi\n",
    "    t       = np.arange(0, len(sigWDM))*Ts\n",
    "    ϕ_pn_lo = phaseNoise(lw, len(sigWDM), Ts)\n",
    "    sigLO   = np.sqrt(Plo)*np.exp(1j*(2*π*Δf_lo*t + ϕ_lo + ϕ_pn_lo))\n",
    "\n",
    "    #### polarization multiplexed coherent optical receiver\n",
    "    θsig = π/3 # polarization rotation angle\n",
    "    sigRx = pdmCoherentReceiver(sigWDM, sigLO, θsig, paramPD)\n",
    "\n",
    "    ### Matched filtering and CD compensation\n",
    "\n",
    "    # Rx filtering\n",
    "    \n",
    "    # Matched filtering\n",
    "    if paramTx.pulse == 'nrz':\n",
    "        pulse = pulseShape('nrz', paramTx.SpS)\n",
    "    elif paramTx.pulse == 'rrc':\n",
    "        pulse = pulseShape('rrc', paramTx.SpS, N=paramTx.Ntaps, alpha=paramTx.alphaRRC, Ts=1/paramTx.Rs)\n",
    "\n",
    "    pulse = pnorm(pulse)\n",
    "    sigRx = firFilter(pulse, sigRx)\n",
    "\n",
    "    # CD compensation/digital backpropagation\n",
    "    if runDBP:\n",
    "        Pch = 10**((G + paramTx.Pch_dBm)/10)*1e-3\n",
    "        sigRx = np.sqrt(Pch/2)*pnorm(sigRx)\n",
    "        print('channel input power (DBP): ', round(10*np.log10(signal_power(sigRx)/1e-3),3),'dBm')\n",
    "\n",
    "        sigRx,_ = manakovDBP(sigRx, Fs, paramDBP)    \n",
    "    else:\n",
    "        sigRx = edc(sigRx, paramCh.Ltotal, paramCh.D, Fc-Δf_lo, Fs)\n",
    "\n",
    "    ### Downsampling to 2 samples/symbol and re-synchronization with transmitted sequences\n",
    "\n",
    "    # decimation\n",
    "    paramDec = parameters()\n",
    "    paramDec.SpS_in  = paramTx.SpS\n",
    "    paramDec.SpS_out = 2\n",
    "    sigRx = decimate(sigRx, paramDec)\n",
    "\n",
    "    symbRx = symbolSync(sigRx, symbTx, 2)\n",
    "\n",
    "    ### Power normalization\n",
    "\n",
    "    x = pnorm(sigRx)\n",
    "    d = pnorm(symbRx)\n",
    "\n",
    "    ### Adaptive equalization\n",
    "\n",
    "    # adaptive equalization parameters\n",
    "    paramEq = parameters()\n",
    "    paramEq.nTaps = 15\n",
    "    paramEq.SpS = paramDec.SpS_out\n",
    "    paramEq.numIter = 5\n",
    "    paramEq.storeCoeff = False\n",
    "    paramEq.M = paramTx.M\n",
    "    paramEq.L = [int(0.2*d.shape[0]), int(0.8*d.shape[0])]\n",
    "    paramEq.prgsBar = False\n",
    "\n",
    "    if paramTx.M == 4:\n",
    "        paramEq.alg = ['cma','cma'] # QPSK\n",
    "        paramEq.mu = [5e-3, 1e-3] \n",
    "    else:\n",
    "        paramEq.alg = ['da-rde','rde'] # M-QAM\n",
    "        paramEq.mu = [5e-3, 2e-4] \n",
    "\n",
    "    y_EQ, H, errSq, Hiter = mimoAdaptEqualizer(x, dx=d, paramEq=paramEq)\n",
    "\n",
    "    ### Carrier phase recovery\n",
    "\n",
    "    paramCPR = parameters()\n",
    "    paramCPR.alg = 'bps'\n",
    "    paramCPR.M   = paramTx.M\n",
    "    paramCPR.N   = 75\n",
    "    paramCPR.B   = 64\n",
    "    paramCPR.pilotInd = np.arange(0, len(y_EQ), 20) \n",
    "\n",
    "    y_CPR, θ = cpr(y_EQ, symbTx=d, paramCPR=paramCPR)\n",
    "\n",
    "    y_CPR = pnorm(y_CPR)\n",
    "\n",
    "    discard = 5000\n",
    "\n",
    "    ### Evaluate transmission metrics\n",
    "\n",
    "    ind = np.arange(discard, d.shape[0]-discard)\n",
    "\n",
    "    # remove phase and polarization ambiguities for QPSK signals\n",
    "    if paramTx.M == 4:   \n",
    "        d = symbTx\n",
    "        # find rotations after CPR and/or polarizations swaps possibly added at the output the adaptive equalizer:\n",
    "        rot0 = [np.mean(pnorm(symbTx[ind,0])/pnorm(y_CPR[ind,0])), np.mean(pnorm(symbTx[ind,1])/pnorm(y_CPR[ind,0]))]\n",
    "        rot1 = [np.mean(pnorm(symbTx[ind,1])/pnorm(y_CPR[ind,1])), np.mean(pnorm(symbTx[ind,0])/pnorm(y_CPR[ind,1]))]\n",
    "\n",
    "        if np.argmax(np.abs(rot0)) == 1 and np.argmax(np.abs(rot1)) == 1:      \n",
    "            y_CPR_ = y_CPR.copy() \n",
    "            # undo swap and rotation \n",
    "            y_CPR[:,0] = pnorm(rot1[np.argmax(np.abs(rot1))]*y_CPR_[:,1]) \n",
    "            y_CPR[:,1] = pnorm(rot0[np.argmax(np.abs(rot0))]*y_CPR_[:,0])\n",
    "        else:\n",
    "            # undo rotation\n",
    "            y_CPR[:,0] = pnorm(rot0[np.argmax(np.abs(rot0))]*y_CPR[:,0])\n",
    "            y_CPR[:,1] = pnorm(rot1[np.argmax(np.abs(rot1))]*y_CPR[:,1])\n",
    "\n",
    "\n",
    "    BER[:,indP], SER[:,indP], SNR[:,indP] = fastBERcalc(y_CPR[ind,:], d[ind,:], paramTx.M, 'qam')\n",
    "    GMI[:,indP], NGMI[:,indP] = monteCarloGMI(y_CPR[ind,:], d[ind,:], paramTx.M, 'qam')\n",
    "    MI[:,indP] = monteCarloMI(y_CPR[ind,:], d[ind,:], paramTx.M, 'qam')\n",
    "    EVM[:,indP] = calcEVM(y_CPR[ind,:], paramTx.M, 'qam', d[ind,:])\n",
    "\n",
    "    print('      pol.X      pol.Y      ')\n",
    "    print(' SER: %.2e,  %.2e'%(SER[0,indP], SER[1,indP]))\n",
    "    print(' BER: %.2e,  %.2e'%(BER[0,indP], BER[1,indP]))\n",
    "    print(' SNR: %.2f dB,  %.2f dB'%(SNR[0,indP], SNR[1,indP]))\n",
    "    print(' EVM: %.2f %%,    %.2f %%'%(EVM[0,indP]*100, EVM[1,indP]*100))\n",
    "    print('  MI: %.2f bits, %.2f bits'%(MI[0,indP], MI[1,indP]))\n",
    "    print(' GMI: %.2f bits, %.2f bits'%(GMI[0,indP], GMI[1,indP]))\n",
    "    print('NGMI: %.2f,      %.2f'%(NGMI[0,indP], NGMI[1,indP]))"
   ]
  }
 ],
 "metadata": {
  "accelerator": "GPU",
  "colab": {
   "include_colab_link": true,
   "provenance": []
  },
  "jupytext": {
   "encoding": "# -*- coding: utf-8 -*-",
   "formats": "ipynb,py:light"
  },
  "kernelspec": {
   "display_name": "Python 3 (ipykernel)",
   "language": "python",
   "name": "python3"
  },
  "language_info": {
   "codemirror_mode": {
    "name": "ipython",
    "version": 3
   },
   "file_extension": ".py",
   "mimetype": "text/x-python",
   "name": "python",
   "nbconvert_exporter": "python",
   "pygments_lexer": "ipython3",
   "version": "3.9.7"
  },
  "toc": {
   "base_numbering": 1,
   "nav_menu": {},
   "number_sections": true,
   "sideBar": true,
   "skip_h1_title": true,
   "title_cell": "Table of Contents",
   "title_sidebar": "Contents",
   "toc_cell": true,
   "toc_position": {
    "height": "calc(100% - 180px)",
    "left": "10px",
    "top": "150px",
    "width": "261.719px"
   },
   "toc_section_display": true,
   "toc_window_display": false
  },
  "varInspector": {
   "cols": {
    "lenName": 16,
    "lenType": 16,
    "lenVar": 40
   },
   "kernels_config": {
    "python": {
     "delete_cmd_postfix": "",
     "delete_cmd_prefix": "del ",
     "library": "var_list.py",
     "varRefreshCmd": "print(var_dic_list())"
    },
    "r": {
     "delete_cmd_postfix": ") ",
     "delete_cmd_prefix": "rm(",
     "library": "var_list.r",
     "varRefreshCmd": "cat(var_dic_list()) "
    }
   },
   "position": {
    "height": "144.4px",
    "left": "1163px",
    "right": "20px",
    "top": "121px",
    "width": "350px"
   },
   "types_to_exclude": [
    "module",
    "function",
    "builtin_function_or_method",
    "instance",
    "_Feature"
   ],
   "window_display": false
  },
  "widgets": {
   "application/vnd.jupyter.widget-state+json": {
    "0cec9d9b71ba45018460f4942672e73b": {
     "model_module": "@jupyter-widgets/base",
     "model_module_version": "1.2.0",
     "model_name": "LayoutModel",
     "state": {
      "_model_module": "@jupyter-widgets/base",
      "_model_module_version": "1.2.0",
      "_model_name": "LayoutModel",
      "_view_count": null,
      "_view_module": "@jupyter-widgets/base",
      "_view_module_version": "1.2.0",
      "_view_name": "LayoutView",
      "align_content": null,
      "align_items": null,
      "align_self": null,
      "border": null,
      "bottom": null,
      "display": null,
      "flex": null,
      "flex_flow": null,
      "grid_area": null,
      "grid_auto_columns": null,
      "grid_auto_flow": null,
      "grid_auto_rows": null,
      "grid_column": null,
      "grid_gap": null,
      "grid_row": null,
      "grid_template_areas": null,
      "grid_template_columns": null,
      "grid_template_rows": null,
      "height": null,
      "justify_content": null,
      "justify_items": null,
      "left": null,
      "margin": null,
      "max_height": null,
      "max_width": null,
      "min_height": null,
      "min_width": null,
      "object_fit": null,
      "object_position": null,
      "order": null,
      "overflow": null,
      "overflow_x": null,
      "overflow_y": null,
      "padding": null,
      "right": null,
      "top": null,
      "visibility": null,
      "width": null
     }
    },
    "0d0d223577654c0980520ed48c4866a7": {
     "model_module": "@jupyter-widgets/controls",
     "model_module_version": "1.5.0",
     "model_name": "FloatProgressModel",
     "state": {
      "_dom_classes": [],
      "_model_module": "@jupyter-widgets/controls",
      "_model_module_version": "1.5.0",
      "_model_name": "FloatProgressModel",
      "_view_count": null,
      "_view_module": "@jupyter-widgets/controls",
      "_view_module_version": "1.5.0",
      "_view_name": "ProgressView",
      "bar_style": "success",
      "description": "",
      "description_tooltip": null,
      "layout": "IPY_MODEL_b70bb6363ff64ccbb7087900ef892eb5",
      "max": 14,
      "min": 0,
      "orientation": "horizontal",
      "style": "IPY_MODEL_d4247b94ef5c4a439cd4af9458125fc2",
      "value": 14
     }
    },
    "0ef4e5276a4344638674b547b859a129": {
     "model_module": "@jupyter-widgets/base",
     "model_module_version": "1.2.0",
     "model_name": "LayoutModel",
     "state": {
      "_model_module": "@jupyter-widgets/base",
      "_model_module_version": "1.2.0",
      "_model_name": "LayoutModel",
      "_view_count": null,
      "_view_module": "@jupyter-widgets/base",
      "_view_module_version": "1.2.0",
      "_view_name": "LayoutView",
      "align_content": null,
      "align_items": null,
      "align_self": null,
      "border": null,
      "bottom": null,
      "display": null,
      "flex": null,
      "flex_flow": null,
      "grid_area": null,
      "grid_auto_columns": null,
      "grid_auto_flow": null,
      "grid_auto_rows": null,
      "grid_column": null,
      "grid_gap": null,
      "grid_row": null,
      "grid_template_areas": null,
      "grid_template_columns": null,
      "grid_template_rows": null,
      "height": null,
      "justify_content": null,
      "justify_items": null,
      "left": null,
      "margin": null,
      "max_height": null,
      "max_width": null,
      "min_height": null,
      "min_width": null,
      "object_fit": null,
      "object_position": null,
      "order": null,
      "overflow": null,
      "overflow_x": null,
      "overflow_y": null,
      "padding": null,
      "right": null,
      "top": null,
      "visibility": null,
      "width": null
     }
    },
    "305e5dc45df947c4b3640746643c4a26": {
     "model_module": "@jupyter-widgets/controls",
     "model_module_version": "1.5.0",
     "model_name": "HBoxModel",
     "state": {
      "_dom_classes": [],
      "_model_module": "@jupyter-widgets/controls",
      "_model_module_version": "1.5.0",
      "_model_name": "HBoxModel",
      "_view_count": null,
      "_view_module": "@jupyter-widgets/controls",
      "_view_module_version": "1.5.0",
      "_view_name": "HBoxView",
      "box_style": "",
      "children": [
       "IPY_MODEL_b07e3d1c0eee407ba3a2b6b3498edb61",
       "IPY_MODEL_e0f8d22f269246b9b4ed8c6c7e61aeae",
       "IPY_MODEL_5b6ae8306e70477580b6203d44e33a38"
      ],
      "layout": "IPY_MODEL_0ef4e5276a4344638674b547b859a129"
     }
    },
    "32ef48a5dd1d4a2cb94e5409dd572d74": {
     "model_module": "@jupyter-widgets/base",
     "model_module_version": "1.2.0",
     "model_name": "LayoutModel",
     "state": {
      "_model_module": "@jupyter-widgets/base",
      "_model_module_version": "1.2.0",
      "_model_name": "LayoutModel",
      "_view_count": null,
      "_view_module": "@jupyter-widgets/base",
      "_view_module_version": "1.2.0",
      "_view_name": "LayoutView",
      "align_content": null,
      "align_items": null,
      "align_self": null,
      "border": null,
      "bottom": null,
      "display": null,
      "flex": null,
      "flex_flow": null,
      "grid_area": null,
      "grid_auto_columns": null,
      "grid_auto_flow": null,
      "grid_auto_rows": null,
      "grid_column": null,
      "grid_gap": null,
      "grid_row": null,
      "grid_template_areas": null,
      "grid_template_columns": null,
      "grid_template_rows": null,
      "height": null,
      "justify_content": null,
      "justify_items": null,
      "left": null,
      "margin": null,
      "max_height": null,
      "max_width": null,
      "min_height": null,
      "min_width": null,
      "object_fit": null,
      "object_position": null,
      "order": null,
      "overflow": null,
      "overflow_x": null,
      "overflow_y": null,
      "padding": null,
      "right": null,
      "top": null,
      "visibility": null,
      "width": null
     }
    },
    "5773596ed660451aac75b1f0b2a052e5": {
     "model_module": "@jupyter-widgets/base",
     "model_module_version": "1.2.0",
     "model_name": "LayoutModel",
     "state": {
      "_model_module": "@jupyter-widgets/base",
      "_model_module_version": "1.2.0",
      "_model_name": "LayoutModel",
      "_view_count": null,
      "_view_module": "@jupyter-widgets/base",
      "_view_module_version": "1.2.0",
      "_view_name": "LayoutView",
      "align_content": null,
      "align_items": null,
      "align_self": null,
      "border": null,
      "bottom": null,
      "display": null,
      "flex": null,
      "flex_flow": null,
      "grid_area": null,
      "grid_auto_columns": null,
      "grid_auto_flow": null,
      "grid_auto_rows": null,
      "grid_column": null,
      "grid_gap": null,
      "grid_row": null,
      "grid_template_areas": null,
      "grid_template_columns": null,
      "grid_template_rows": null,
      "height": null,
      "justify_content": null,
      "justify_items": null,
      "left": null,
      "margin": null,
      "max_height": null,
      "max_width": null,
      "min_height": null,
      "min_width": null,
      "object_fit": null,
      "object_position": null,
      "order": null,
      "overflow": null,
      "overflow_x": null,
      "overflow_y": null,
      "padding": null,
      "right": null,
      "top": null,
      "visibility": null,
      "width": null
     }
    },
    "596d425cdf7f4a0697238e3664c5195f": {
     "model_module": "@jupyter-widgets/controls",
     "model_module_version": "1.5.0",
     "model_name": "DescriptionStyleModel",
     "state": {
      "_model_module": "@jupyter-widgets/controls",
      "_model_module_version": "1.5.0",
      "_model_name": "DescriptionStyleModel",
      "_view_count": null,
      "_view_module": "@jupyter-widgets/base",
      "_view_module_version": "1.2.0",
      "_view_name": "StyleView",
      "description_width": ""
     }
    },
    "5b6ae8306e70477580b6203d44e33a38": {
     "model_module": "@jupyter-widgets/controls",
     "model_module_version": "1.5.0",
     "model_name": "HTMLModel",
     "state": {
      "_dom_classes": [],
      "_model_module": "@jupyter-widgets/controls",
      "_model_module_version": "1.5.0",
      "_model_name": "HTMLModel",
      "_view_count": null,
      "_view_module": "@jupyter-widgets/controls",
      "_view_module_version": "1.5.0",
      "_view_name": "HTMLView",
      "description": "",
      "description_tooltip": null,
      "layout": "IPY_MODEL_5773596ed660451aac75b1f0b2a052e5",
      "placeholder": "​",
      "style": "IPY_MODEL_f6e0856c07ed4069940d749b31c5d6d5",
      "value": " 5/5 [00:29&lt;00:00,  2.62s/it]"
     }
    },
    "6a786005faa04fd8b7c5e69dc70df06a": {
     "model_module": "@jupyter-widgets/base",
     "model_module_version": "1.2.0",
     "model_name": "LayoutModel",
     "state": {
      "_model_module": "@jupyter-widgets/base",
      "_model_module_version": "1.2.0",
      "_model_name": "LayoutModel",
      "_view_count": null,
      "_view_module": "@jupyter-widgets/base",
      "_view_module_version": "1.2.0",
      "_view_name": "LayoutView",
      "align_content": null,
      "align_items": null,
      "align_self": null,
      "border": null,
      "bottom": null,
      "display": null,
      "flex": null,
      "flex_flow": null,
      "grid_area": null,
      "grid_auto_columns": null,
      "grid_auto_flow": null,
      "grid_auto_rows": null,
      "grid_column": null,
      "grid_gap": null,
      "grid_row": null,
      "grid_template_areas": null,
      "grid_template_columns": null,
      "grid_template_rows": null,
      "height": null,
      "justify_content": null,
      "justify_items": null,
      "left": null,
      "margin": null,
      "max_height": null,
      "max_width": null,
      "min_height": null,
      "min_width": null,
      "object_fit": null,
      "object_position": null,
      "order": null,
      "overflow": null,
      "overflow_x": null,
      "overflow_y": null,
      "padding": null,
      "right": null,
      "top": null,
      "visibility": null,
      "width": null
     }
    },
    "7b1b87f7b77049a691df25723928eef3": {
     "model_module": "@jupyter-widgets/base",
     "model_module_version": "1.2.0",
     "model_name": "LayoutModel",
     "state": {
      "_model_module": "@jupyter-widgets/base",
      "_model_module_version": "1.2.0",
      "_model_name": "LayoutModel",
      "_view_count": null,
      "_view_module": "@jupyter-widgets/base",
      "_view_module_version": "1.2.0",
      "_view_name": "LayoutView",
      "align_content": null,
      "align_items": null,
      "align_self": null,
      "border": null,
      "bottom": null,
      "display": null,
      "flex": null,
      "flex_flow": null,
      "grid_area": null,
      "grid_auto_columns": null,
      "grid_auto_flow": null,
      "grid_auto_rows": null,
      "grid_column": null,
      "grid_gap": null,
      "grid_row": null,
      "grid_template_areas": null,
      "grid_template_columns": null,
      "grid_template_rows": null,
      "height": null,
      "justify_content": null,
      "justify_items": null,
      "left": null,
      "margin": null,
      "max_height": null,
      "max_width": null,
      "min_height": null,
      "min_width": null,
      "object_fit": null,
      "object_position": null,
      "order": null,
      "overflow": null,
      "overflow_x": null,
      "overflow_y": null,
      "padding": null,
      "right": null,
      "top": null,
      "visibility": null,
      "width": null
     }
    },
    "92a22dde2b5e4ab882f824d5dff0d377": {
     "model_module": "@jupyter-widgets/controls",
     "model_module_version": "1.5.0",
     "model_name": "HTMLModel",
     "state": {
      "_dom_classes": [],
      "_model_module": "@jupyter-widgets/controls",
      "_model_module_version": "1.5.0",
      "_model_name": "HTMLModel",
      "_view_count": null,
      "_view_module": "@jupyter-widgets/controls",
      "_view_module_version": "1.5.0",
      "_view_name": "HTMLView",
      "description": "",
      "description_tooltip": null,
      "layout": "IPY_MODEL_6a786005faa04fd8b7c5e69dc70df06a",
      "placeholder": "​",
      "style": "IPY_MODEL_994d17059a9b47f0b2ed3654712fb0c3",
      "value": " 14/14 [00:57&lt;00:00,  3.82s/it]"
     }
    },
    "994d17059a9b47f0b2ed3654712fb0c3": {
     "model_module": "@jupyter-widgets/controls",
     "model_module_version": "1.5.0",
     "model_name": "DescriptionStyleModel",
     "state": {
      "_model_module": "@jupyter-widgets/controls",
      "_model_module_version": "1.5.0",
      "_model_name": "DescriptionStyleModel",
      "_view_count": null,
      "_view_module": "@jupyter-widgets/base",
      "_view_module_version": "1.2.0",
      "_view_name": "StyleView",
      "description_width": ""
     }
    },
    "9eef6ad9e86b4434b244d76fb90653b2": {
     "model_module": "@jupyter-widgets/base",
     "model_module_version": "1.2.0",
     "model_name": "LayoutModel",
     "state": {
      "_model_module": "@jupyter-widgets/base",
      "_model_module_version": "1.2.0",
      "_model_name": "LayoutModel",
      "_view_count": null,
      "_view_module": "@jupyter-widgets/base",
      "_view_module_version": "1.2.0",
      "_view_name": "LayoutView",
      "align_content": null,
      "align_items": null,
      "align_self": null,
      "border": null,
      "bottom": null,
      "display": null,
      "flex": null,
      "flex_flow": null,
      "grid_area": null,
      "grid_auto_columns": null,
      "grid_auto_flow": null,
      "grid_auto_rows": null,
      "grid_column": null,
      "grid_gap": null,
      "grid_row": null,
      "grid_template_areas": null,
      "grid_template_columns": null,
      "grid_template_rows": null,
      "height": null,
      "justify_content": null,
      "justify_items": null,
      "left": null,
      "margin": null,
      "max_height": null,
      "max_width": null,
      "min_height": null,
      "min_width": null,
      "object_fit": null,
      "object_position": null,
      "order": null,
      "overflow": null,
      "overflow_x": null,
      "overflow_y": null,
      "padding": null,
      "right": null,
      "top": null,
      "visibility": null,
      "width": null
     }
    },
    "b07e3d1c0eee407ba3a2b6b3498edb61": {
     "model_module": "@jupyter-widgets/controls",
     "model_module_version": "1.5.0",
     "model_name": "HTMLModel",
     "state": {
      "_dom_classes": [],
      "_model_module": "@jupyter-widgets/controls",
      "_model_module_version": "1.5.0",
      "_model_name": "HTMLModel",
      "_view_count": null,
      "_view_module": "@jupyter-widgets/controls",
      "_view_module_version": "1.5.0",
      "_view_name": "HTMLView",
      "description": "",
      "description_tooltip": null,
      "layout": "IPY_MODEL_0cec9d9b71ba45018460f4942672e73b",
      "placeholder": "​",
      "style": "IPY_MODEL_596d425cdf7f4a0697238e3664c5195f",
      "value": "100%"
     }
    },
    "b70bb6363ff64ccbb7087900ef892eb5": {
     "model_module": "@jupyter-widgets/base",
     "model_module_version": "1.2.0",
     "model_name": "LayoutModel",
     "state": {
      "_model_module": "@jupyter-widgets/base",
      "_model_module_version": "1.2.0",
      "_model_name": "LayoutModel",
      "_view_count": null,
      "_view_module": "@jupyter-widgets/base",
      "_view_module_version": "1.2.0",
      "_view_name": "LayoutView",
      "align_content": null,
      "align_items": null,
      "align_self": null,
      "border": null,
      "bottom": null,
      "display": null,
      "flex": null,
      "flex_flow": null,
      "grid_area": null,
      "grid_auto_columns": null,
      "grid_auto_flow": null,
      "grid_auto_rows": null,
      "grid_column": null,
      "grid_gap": null,
      "grid_row": null,
      "grid_template_areas": null,
      "grid_template_columns": null,
      "grid_template_rows": null,
      "height": null,
      "justify_content": null,
      "justify_items": null,
      "left": null,
      "margin": null,
      "max_height": null,
      "max_width": null,
      "min_height": null,
      "min_width": null,
      "object_fit": null,
      "object_position": null,
      "order": null,
      "overflow": null,
      "overflow_x": null,
      "overflow_y": null,
      "padding": null,
      "right": null,
      "top": null,
      "visibility": null,
      "width": null
     }
    },
    "c5a9e5d034e64b00b295e93140f51e72": {
     "model_module": "@jupyter-widgets/controls",
     "model_module_version": "1.5.0",
     "model_name": "DescriptionStyleModel",
     "state": {
      "_model_module": "@jupyter-widgets/controls",
      "_model_module_version": "1.5.0",
      "_model_name": "DescriptionStyleModel",
      "_view_count": null,
      "_view_module": "@jupyter-widgets/base",
      "_view_module_version": "1.2.0",
      "_view_name": "StyleView",
      "description_width": ""
     }
    },
    "d4247b94ef5c4a439cd4af9458125fc2": {
     "model_module": "@jupyter-widgets/controls",
     "model_module_version": "1.5.0",
     "model_name": "ProgressStyleModel",
     "state": {
      "_model_module": "@jupyter-widgets/controls",
      "_model_module_version": "1.5.0",
      "_model_name": "ProgressStyleModel",
      "_view_count": null,
      "_view_module": "@jupyter-widgets/base",
      "_view_module_version": "1.2.0",
      "_view_name": "StyleView",
      "bar_color": null,
      "description_width": ""
     }
    },
    "d751e4cdab95433f8fabdaebf41d630a": {
     "model_module": "@jupyter-widgets/controls",
     "model_module_version": "1.5.0",
     "model_name": "ProgressStyleModel",
     "state": {
      "_model_module": "@jupyter-widgets/controls",
      "_model_module_version": "1.5.0",
      "_model_name": "ProgressStyleModel",
      "_view_count": null,
      "_view_module": "@jupyter-widgets/base",
      "_view_module_version": "1.2.0",
      "_view_name": "StyleView",
      "bar_color": null,
      "description_width": ""
     }
    },
    "d7ec57b1b19d4660a0548563dd43f97c": {
     "model_module": "@jupyter-widgets/controls",
     "model_module_version": "1.5.0",
     "model_name": "HBoxModel",
     "state": {
      "_dom_classes": [],
      "_model_module": "@jupyter-widgets/controls",
      "_model_module_version": "1.5.0",
      "_model_name": "HBoxModel",
      "_view_count": null,
      "_view_module": "@jupyter-widgets/controls",
      "_view_module_version": "1.5.0",
      "_view_name": "HBoxView",
      "box_style": "",
      "children": [
       "IPY_MODEL_f973387453444cc4b5fbec8658506a3a",
       "IPY_MODEL_0d0d223577654c0980520ed48c4866a7",
       "IPY_MODEL_92a22dde2b5e4ab882f824d5dff0d377"
      ],
      "layout": "IPY_MODEL_7b1b87f7b77049a691df25723928eef3"
     }
    },
    "e0f8d22f269246b9b4ed8c6c7e61aeae": {
     "model_module": "@jupyter-widgets/controls",
     "model_module_version": "1.5.0",
     "model_name": "FloatProgressModel",
     "state": {
      "_dom_classes": [],
      "_model_module": "@jupyter-widgets/controls",
      "_model_module_version": "1.5.0",
      "_model_name": "FloatProgressModel",
      "_view_count": null,
      "_view_module": "@jupyter-widgets/controls",
      "_view_module_version": "1.5.0",
      "_view_name": "ProgressView",
      "bar_style": "success",
      "description": "",
      "description_tooltip": null,
      "layout": "IPY_MODEL_9eef6ad9e86b4434b244d76fb90653b2",
      "max": 5,
      "min": 0,
      "orientation": "horizontal",
      "style": "IPY_MODEL_d751e4cdab95433f8fabdaebf41d630a",
      "value": 5
     }
    },
    "f6e0856c07ed4069940d749b31c5d6d5": {
     "model_module": "@jupyter-widgets/controls",
     "model_module_version": "1.5.0",
     "model_name": "DescriptionStyleModel",
     "state": {
      "_model_module": "@jupyter-widgets/controls",
      "_model_module_version": "1.5.0",
      "_model_name": "DescriptionStyleModel",
      "_view_count": null,
      "_view_module": "@jupyter-widgets/base",
      "_view_module_version": "1.2.0",
      "_view_name": "StyleView",
      "description_width": ""
     }
    },
    "f973387453444cc4b5fbec8658506a3a": {
     "model_module": "@jupyter-widgets/controls",
     "model_module_version": "1.5.0",
     "model_name": "HTMLModel",
     "state": {
      "_dom_classes": [],
      "_model_module": "@jupyter-widgets/controls",
      "_model_module_version": "1.5.0",
      "_model_name": "HTMLModel",
      "_view_count": null,
      "_view_module": "@jupyter-widgets/controls",
      "_view_module_version": "1.5.0",
      "_view_name": "HTMLView",
      "description": "",
      "description_tooltip": null,
      "layout": "IPY_MODEL_32ef48a5dd1d4a2cb94e5409dd572d74",
      "placeholder": "​",
      "style": "IPY_MODEL_c5a9e5d034e64b00b295e93140f51e72",
      "value": "100%"
     }
    }
   }
  }
 },
 "nbformat": 4,
 "nbformat_minor": 5
}
