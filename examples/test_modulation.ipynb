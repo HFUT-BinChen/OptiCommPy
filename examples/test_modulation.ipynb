{
 "cells": [
  {
   "cell_type": "markdown",
   "id": "d6fc8cf4",
   "metadata": {},
   "source": [
    "<a href=\"https://colab.research.google.com/github/edsonportosilva/OptiCommPy/blob/main/jupyter/test_modulation.ipynb\" target=\"_parent\"><img src=\"https://colab.research.google.com/assets/colab-badge.svg\" alt=\"Open In Colab\"/></a>"
   ]
  },
  {
   "cell_type": "markdown",
   "id": "61197be5",
   "metadata": {},
   "source": [
    "# Test basic digital modulation functionalities"
   ]
  },
  {
   "cell_type": "code",
   "execution_count": 1,
   "id": "2730db3c",
   "metadata": {
    "ExecuteTime": {
     "end_time": "2022-12-01T13:31:33.719516Z",
     "start_time": "2022-12-01T13:31:33.699516Z"
    }
   },
   "outputs": [],
   "source": [
    "if 'google.colab' in str(get_ipython()):    \n",
    "    ! git clone -b main https://github.com/edsonportosilva/OptiCommPy\n",
    "    from os import chdir as cd\n",
    "    cd('/content/OptiCommPy/')\n",
    "    ! pip install . "
   ]
  },
  {
   "cell_type": "code",
   "execution_count": 2,
   "id": "b701cab7",
   "metadata": {
    "ExecuteTime": {
     "end_time": "2022-12-01T13:31:35.932355Z",
     "start_time": "2022-12-01T13:31:33.720546Z"
    }
   },
   "outputs": [],
   "source": [
    "from optic.modulation import modulateGray, demodulateGray, GrayMapping\n",
    "from optic.metrics import signal_power, fastBERcalc\n",
    "from optic.models import awgn\n",
    "from optic.dsp import pnorm\n",
    "import matplotlib.pyplot as plt\n",
    "import numpy as np\n",
    "from tqdm.notebook import tqdm\n",
    "from numba import njit\n",
    "\n",
    "import os.path as path"
   ]
  },
  {
   "cell_type": "code",
   "execution_count": 3,
   "id": "f018dcc9",
   "metadata": {
    "ExecuteTime": {
     "end_time": "2022-12-01T13:31:36.025992Z",
     "start_time": "2022-12-01T13:31:35.935356Z"
    }
   },
   "outputs": [],
   "source": [
    "%load_ext autoreload\n",
    "%autoreload 2"
   ]
  },
  {
   "cell_type": "markdown",
   "id": "55805554",
   "metadata": {},
   "source": [
    "## Define modulation, modulate and demodulate data"
   ]
  },
  {
   "cell_type": "code",
   "execution_count": 4,
   "id": "4327ead5",
   "metadata": {
    "ExecuteTime": {
     "end_time": "2022-12-01T13:31:38.242493Z",
     "start_time": "2022-12-01T13:31:36.026845Z"
    }
   },
   "outputs": [
    {
     "name": "stdout",
     "output_type": "stream",
     "text": [
      "BER = 0.00e+00\n",
      "SNR(est) = 26.05\n"
     ]
    },
    {
     "data": {
      "image/png": "[encoded data removed]",
      "text/plain": [
       "<Figure size 288x288 with 1 Axes>"
      ]
     },
     "metadata": {
      "needs_background": "light"
     },
     "output_type": "display_data"
    }
   ],
   "source": [
    "# Run AWGN simulation \n",
    "EbN0dB = 20 # SNR per bit\n",
    "M      = 16  # order of the modulation format\n",
    "constType = 'qam' # 'qam', 'psk', 'pam' or 'ook'\n",
    "\n",
    "# modulation parameters\n",
    "constSymb = GrayMapping(M, constType)             # Gray constellation mapping\n",
    "bitMap = demodulateGray(constSymb, M, constType)  # bit mapping\n",
    "bitMap = bitMap.reshape(-1, int(np.log2(M)))\n",
    "Es = signal_power(constSymb)                      # mean symbol energy\n",
    "\n",
    "# generate random bits\n",
    "bits = np.random.randint(2, size = 6*2**14)\n",
    "\n",
    "# Map bits to constellation symbols\n",
    "symbTx = modulateGray(bits, M, constType)\n",
    "\n",
    "# normalize symbols energy to 1\n",
    "symbTx = pnorm(symbTx)\n",
    "\n",
    "# AWGN    \n",
    "snrdB  = EbN0dB + 10*np.log10(np.log2(M))\n",
    "symbRx = awgn(symbTx, snrdB)\n",
    "\n",
    "# BER calculation (hard demodulation)\n",
    "BER, _, SNRest = fastBERcalc(symbRx, symbTx, M, constType)\n",
    "print('BER = %.2e'%BER)\n",
    "print('SNR(est) = %.2f'%SNRest)\n",
    "\n",
    "plt.figure(figsize=(4,4))\n",
    "plt.plot(symbRx.real, symbRx.imag,'.', label='Rx')\n",
    "plt.plot(symbTx.real, symbTx.imag,'.', label='Tx')\n",
    "plt.axis('square')\n",
    "plt.xlabel('In-Phase (I)')\n",
    "plt.ylabel('Quadrature (Q)')\n",
    "plt.legend();\n",
    "plt.grid()\n",
    "\n",
    "for ind, symb in enumerate(constSymb/np.sqrt(Es)):\n",
    "    bitMap[ind,:]\n",
    "    plt.annotate(str(bitMap[ind,:])[1:-1:2], xy = (symb.real, symb.imag))"
   ]
  }
 ],
 "metadata": {
  "jupytext": {
   "encoding": "# -*- coding: utf-8 -*-",
   "formats": "ipynb,py:light"
  },
  "kernelspec": {
   "display_name": "Python 3 (ipykernel)",
   "language": "python",
   "name": "python3"
  },
  "language_info": {
   "codemirror_mode": {
    "name": "ipython",
    "version": 3
   },
   "file_extension": ".py",
   "mimetype": "text/x-python",
   "name": "python",
   "nbconvert_exporter": "python",
   "pygments_lexer": "ipython3",
   "version": "3.9.7"
  },
  "toc": {
   "base_numbering": 1,
   "nav_menu": {},
   "number_sections": true,
   "sideBar": true,
   "skip_h1_title": true,
   "title_cell": "Table of Contents",
   "title_sidebar": "Contents",
   "toc_cell": true,
   "toc_position": {},
   "toc_section_display": true,
   "toc_window_display": false
  },
  "varInspector": {
   "cols": {
    "lenName": 16,
    "lenType": 16,
    "lenVar": 40
   },
   "kernels_config": {
    "python": {
     "delete_cmd_postfix": "",
     "delete_cmd_prefix": "del ",
     "library": "var_list.py",
     "varRefreshCmd": "print(var_dic_list())"
    },
    "r": {
     "delete_cmd_postfix": ") ",
     "delete_cmd_prefix": "rm(",
     "library": "var_list.r",
     "varRefreshCmd": "cat(var_dic_list()) "
    }
   },
   "types_to_exclude": [
    "module",
    "function",
    "builtin_function_or_method",
    "instance",
    "_Feature"
   ],
   "window_display": false
  }
 },
 "nbformat": 4,
 "nbformat_minor": 5
}
