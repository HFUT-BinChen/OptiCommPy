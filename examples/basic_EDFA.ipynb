{
 "cells": [
  {
   "cell_type": "markdown",
   "metadata": {},
   "source": [
    "<a href=\"https://colab.research.google.com/github/edsonportosilva/OptiCommPy/blob/main/jupyter/baseic_EDFA.ipynb\" target=\"_parent\"><img src=\"https://colab.research.google.com/assets/colab-badge.svg\" alt=\"Open In Colab\"/></a>"
   ]
  },
  {
   "cell_type": "markdown",
   "metadata": {},
   "source": [
    "# Simulation of EDFA using a WDM signal"
   ]
  },
  {
   "cell_type": "code",
   "execution_count": 1,
   "metadata": {
    "ExecuteTime": {
     "end_time": "2023-06-15T18:10:49.517603Z",
     "start_time": "2023-06-15T18:10:49.506632Z"
    }
   },
   "outputs": [],
   "source": [
    "if 'google.colab' in str(get_ipython()):    \n",
    "    ! git clone -b main https://github.com/edsonportosilva/OptiCommPy\n",
    "    from os import chdir as cd\n",
    "    cd('/content/OptiCommPy/')\n",
    "    ! pip install . "
   ]
  },
  {
   "cell_type": "code",
   "execution_count": 2,
   "metadata": {
    "ExecuteTime": {
     "end_time": "2023-06-15T18:11:07.365197Z",
     "start_time": "2023-06-15T18:10:49.518601Z"
    }
   },
   "outputs": [],
   "source": [
    "import os.path as path\n",
    "import numpy as np\n",
    "import matplotlib.pyplot as plt\n",
    "from scipy.constants import c\n",
    "from scipy.signal import find_peaks\n",
    "\n",
    "from optic.core import parameters\n",
    "from optic.models.channels import phaseNoise\n",
    "from optic.models.amplification import edfaSM, OSA, power_meter, get_spectrum\n",
    "\n",
    "#import logging as logg\n",
    "#logg.getLogger().setLevel(logg.INFO)\n",
    "#logg.basicConfig(format='%(message)s')"
   ]
  },
  {
   "cell_type": "code",
   "execution_count": 3,
   "metadata": {
    "ExecuteTime": {
     "end_time": "2023-06-15T18:11:07.380186Z",
     "start_time": "2023-06-15T18:11:07.366195Z"
    }
   },
   "outputs": [
    {
     "data": {
      "text/html": [
       "\n",
       "<style>\n",
       ".output_png {\n",
       "    display: table-cell;\n",
       "    text-align: center;\n",
       "    vertical-align: middle;\n",
       "}\n",
       "</style>\n"
      ],
      "text/plain": [
       "<IPython.core.display.HTML object>"
      ]
     },
     "execution_count": 3,
     "metadata": {},
     "output_type": "execute_result"
    }
   ],
   "source": [
    "from IPython.core.display import HTML\n",
    "from IPython.core.pylabtools import figsize\n",
    "\n",
    "HTML(\"\"\"\n",
    "<style>\n",
    ".output_png {\n",
    "    display: table-cell;\n",
    "    text-align: center;\n",
    "    vertical-align: middle;\n",
    "}\n",
    "</style>\n",
    "\"\"\")"
   ]
  },
  {
   "cell_type": "code",
   "execution_count": 4,
   "metadata": {
    "ExecuteTime": {
     "end_time": "2023-06-15T18:11:07.538762Z",
     "start_time": "2023-06-15T18:11:07.381154Z"
    }
   },
   "outputs": [],
   "source": [
    "figsize(10, 3)"
   ]
  },
  {
   "cell_type": "markdown",
   "metadata": {},
   "source": [
    "## Parameters"
   ]
  },
  {
   "cell_type": "code",
   "execution_count": 5,
   "metadata": {
    "ExecuteTime": {
     "end_time": "2023-06-15T18:11:07.618095Z",
     "start_time": "2023-06-15T18:11:07.540756Z"
    }
   },
   "outputs": [],
   "source": [
    "# EDFA parameters:\n",
    "param_edfa = parameters()\n",
    "# Gain control\n",
    "param_edfa.type     = \"none\"\n",
    "param_edfa.value    = 20 #dB\n",
    "# Pump configuration\n",
    "param_edfa.forPump  = {'pump_signal': np.array([ 10e-3]), 'pump_lambda': np.array([980e-9])}\n",
    "param_edfa.bckPump  = {'pump_signal': np.array([000e-3]), 'pump_lambda': np.array([980e-9])}\n",
    "# EDF parameters\n",
    "param_edfa.file     = 'giles_MP980.dat'\n",
    "param_edfa.fileunit = 'nm'\n",
    "# Algorithm\n",
    "param_edfa.gmtc     = 'Bessel'\n",
    "param_edfa.tol      = 0.05\n",
    "param_edfa.tolCtrl  = 0.5"
   ]
  },
  {
   "cell_type": "code",
   "execution_count": 6,
   "metadata": {
    "ExecuteTime": {
     "end_time": "2023-06-15T18:11:07.712355Z",
     "start_time": "2023-06-15T18:11:07.619092Z"
    }
   },
   "outputs": [],
   "source": [
    "if 'google.colab' in str(get_ipython()):  \n",
    "  param_edfa.file = path.join(path.abspath(path.join(\"../\")), 'OptiCommPy', 'optic','models','ampParams', param_edfa.file)\n",
    "else:\n",
    "  param_edfa.file = path.join(path.abspath(path.join(\"../\")), 'optic','models','ampParams', param_edfa.file)"
   ]
  },
  {
   "cell_type": "code",
   "execution_count": 7,
   "metadata": {
    "ExecuteTime": {
     "end_time": "2023-06-15T18:11:07.791147Z",
     "start_time": "2023-06-15T18:11:07.713353Z"
    }
   },
   "outputs": [
    {
     "data": {
      "text/plain": [
       "'C:\\\\Users\\\\edson.DESKTOP-54IJM4F\\\\Documents\\\\GitHub\\\\OptiCommPy-private\\\\optic\\\\models\\\\ampParams\\\\giles_MP980.dat'"
      ]
     },
     "execution_count": 7,
     "metadata": {},
     "output_type": "execute_result"
    }
   ],
   "source": [
    "param_edfa.file"
   ]
  },
  {
   "cell_type": "code",
   "execution_count": 8,
   "metadata": {
    "ExecuteTime": {
     "end_time": "2023-06-15T18:11:07.869451Z",
     "start_time": "2023-06-15T18:11:07.792145Z"
    }
   },
   "outputs": [],
   "source": [
    "# Transmitter parameters:\n",
    "paramTx = parameters()\n",
    "paramTx.NSb = 2**10          # number os symbols\n",
    "paramTx.SpS = 256            # samples per symbol\n",
    "paramTx.Rs  = 30e9           # symbol rate\n",
    "paramTx.lw  = 1e6            # laser linewidth\n",
    "paramTx.Nch = 2              # number of channels\n",
    "paramTx.Nmodes   = 1         # number of modes\n",
    "paramTx.Pch_dBm  = -40       # channel power\n",
    "paramTx.freqSpac = 2.5e12    # channel bandwith\n",
    "paramTx.Fc       = c/1540e-9 # central frequency"
   ]
  },
  {
   "cell_type": "markdown",
   "metadata": {},
   "source": [
    "## Simulation"
   ]
  },
  {
   "cell_type": "markdown",
   "metadata": {},
   "source": [
    "**Signal generation**"
   ]
  },
  {
   "cell_type": "code",
   "execution_count": 9,
   "metadata": {
    "ExecuteTime": {
     "end_time": "2023-06-15T18:11:09.390644Z",
     "start_time": "2023-06-15T18:11:07.870448Z"
    }
   },
   "outputs": [],
   "source": [
    "# CW signal with two optical channels: 1530 and 1550 nm.\n",
    "t = np.arange(0, paramTx.NSb * paramTx.SpS)\n",
    "Fs = paramTx.Rs*paramTx.SpS\n",
    "\n",
    "# central frequencies of the WDM channels\n",
    "freqGrid = (\n",
    "    np.arange(-np.floor(paramTx.Nch / 2), np.floor(paramTx.Nch / 2) + 1, 1)\n",
    "    * paramTx.freqSpac\n",
    ")\n",
    "if (paramTx.Nch % 2) == 0:\n",
    "    freqGrid += paramTx.freqSpac / 2\n",
    "# linear power\n",
    "power_lin = 10**((paramTx.Pch_dBm)/10 - 3)\n",
    "# comb generation\n",
    "sigTxWDM = np.zeros((len(t), paramTx.Nmodes), dtype=\"complex\")\n",
    "for indCh in range(paramTx.Nch):\n",
    "    for indMode in range(paramTx.Nmodes):\n",
    "        pho_pn_lo = phaseNoise(paramTx.lw, len(t), 1/Fs)\n",
    "        sigLO   = np.sqrt(power_lin)*np.exp(1j*pho_pn_lo)\n",
    "        sigTxWDM[:, indMode] += sigLO * np.exp(1j * 2 * np.pi * (freqGrid[indCh] / Fs) * t)"
   ]
  },
  {
   "cell_type": "code",
   "execution_count": 10,
   "metadata": {
    "ExecuteTime": {
     "end_time": "2023-06-15T18:11:09.626551Z",
     "start_time": "2023-06-15T18:11:09.391641Z"
    }
   },
   "outputs": [
    {
     "data": {
      "text/plain": [
       "(-120.0, -35.0)"
      ]
     },
     "execution_count": 10,
     "metadata": {},
     "output_type": "execute_result"
    },
    {
     "data": {
      "image/png": "[encoded data removed]",
      "text/plain": [
       "<Figure size 720x216 with 1 Axes>"
      ]
     },
     "metadata": {
      "needs_background": "light"
     },
     "output_type": "display_data"
    }
   ],
   "source": [
    "ax = OSA(sigTxWDM, Fs, paramTx.Fc)\n",
    "ax.set_xlim([1520,1560])\n",
    "ax.set_ylim([-120,-35])"
   ]
  },
  {
   "cell_type": "code",
   "execution_count": 11,
   "metadata": {
    "ExecuteTime": {
     "end_time": "2023-06-15T18:11:09.642509Z",
     "start_time": "2023-06-15T18:11:09.627549Z"
    }
   },
   "outputs": [
    {
     "name": "stdout",
     "output_type": "stream",
     "text": [
      "Number of points: 262144\n",
      "Sample rate [THz]: 7.680\n",
      "Time window [ns]:  34.133\n",
      "Frequency spacing [GHz]: 0.029297\n",
      "\n",
      "Number of modes: 1\n",
      "Central wavelength [nm]: 1540.00\n",
      "Simulation window  [nm]: 60.754991 - [1509.62 nm - 1570.38 nm]\n",
      "\n",
      "Average power - TX [mW] : 0.000 mW\n",
      "Average power - TX [dBm] : -36.990 dBm\n"
     ]
    }
   ],
   "source": [
    "simOpticalBand = (Fs*(c/paramTx.Fc)**2)/c\n",
    "tx_power = 1000*power_meter(sigTxWDM)\n",
    "# information TX\n",
    "print('Number of points: %d' %(len(sigTxWDM)))\n",
    "print('Sample rate [THz]: %5.3f' %(1e-12*Fs))\n",
    "print('Time window [ns]:  %5.3f' %(1e9*len(sigTxWDM)/Fs))\n",
    "print('Frequency spacing [GHz]: %f' %(1e-9*Fs/len(sigTxWDM)))\n",
    "print('')\n",
    "print('Number of modes: %d' %(paramTx.Nmodes))\n",
    "print('Central wavelength [nm]: %6.2f' %(1e9*c/paramTx.Fc))\n",
    "print('Simulation window  [nm]: %f - [%6.2f nm - %6.2f nm]' \n",
    "      %(1e9*simOpticalBand, 1e9*(c/paramTx.Fc-simOpticalBand/2), 1e9*(c/paramTx.Fc+simOpticalBand/2)))\n",
    "print('')\n",
    "print('Average power - TX [mW] : %.3f mW' %(tx_power))\n",
    "print('Average power - TX [dBm] : %.3f dBm' %(10*np.log10(tx_power)))"
   ]
  },
  {
   "cell_type": "markdown",
   "metadata": {},
   "source": [
    "**Signal amplification**"
   ]
  },
  {
   "cell_type": "code",
   "execution_count": null,
   "metadata": {
    "ExecuteTime": {
     "start_time": "2023-06-15T18:10:49.514Z"
    }
   },
   "outputs": [],
   "source": [
    "#%load_ext line_profiler\n",
    "#%lprun -f edfaSM edfaSM(sigWDM_Tx, Fs, paramTx.Fc, param_edfa)\n",
    "# amplification\n",
    "Eout, PumpF, PumpB, noisef = edfaSM(sigTxWDM, Fs, paramTx.Fc, param_edfa)"
   ]
  },
  {
   "cell_type": "code",
   "execution_count": null,
   "metadata": {
    "ExecuteTime": {
     "start_time": "2023-06-15T18:10:49.514Z"
    }
   },
   "outputs": [],
   "source": [
    "# information amp\n",
    "rx_pw = 1000*power_meter(Eout)\n",
    "print('Forward pump  - [mW] : %.3f' %(1e3*PumpF[0]))\n",
    "print('Backward pump - [mW] : %.3f' %(1e3*PumpB[1]))\n",
    "print('')\n",
    "print('Average power - RX amp [mW] : %.3f' %(rx_pw))\n",
    "print('Average power - RX amp [dBm] : %.3f' %(10*np.log10(rx_pw)))\n",
    "print('Gain [dB]: %.3f' %(10*np.log10(rx_pw/tx_power)))"
   ]
  },
  {
   "cell_type": "code",
   "execution_count": null,
   "metadata": {
    "ExecuteTime": {
     "start_time": "2023-06-15T18:10:49.515Z"
    }
   },
   "outputs": [],
   "source": [
    "ax = OSA(Eout, Fs, paramTx.Fc)\n",
    "ax.set_xlim([1520,1570])\n",
    "ax.set_ylim([-70,-15])"
   ]
  },
  {
   "cell_type": "markdown",
   "metadata": {},
   "source": [
    "**EDFA Analysis**"
   ]
  },
  {
   "cell_type": "markdown",
   "metadata": {},
   "source": [
    "Considering two pump signals: 980 nm and 1480 nm for different forward pump powers."
   ]
  },
  {
   "cell_type": "code",
   "execution_count": null,
   "metadata": {
    "ExecuteTime": {
     "start_time": "2023-06-15T18:10:49.516Z"
    }
   },
   "outputs": [],
   "source": [
    "def find_nearest(array, value):\n",
    "    array = np.asarray(array)\n",
    "    return (np.abs(array - np.transpose([value]))).argmin(axis=1)\n",
    "\n",
    "def get_channels_power(signal, Fs, Fc, channels, resolution = 1e-9):\n",
    "    frequency, spectrum = get_spectrum(signal, Fs, Fc)\n",
    "    index_ch = find_nearest(frequency, channels)\n",
    "\n",
    "    channel_power = np.zeros(len(index_ch))\n",
    "    for i in range(len(index_ch)):\n",
    "        index = ((frequency[index_ch[i]] > frequency-resolution/2) == (frequency[index_ch[i]] < frequency+resolution/2))\n",
    "        channel_power[i] = np.sum(10**(spectrum[index]/10))\n",
    "    return 10*np.log10(channel_power)"
   ]
  },
  {
   "cell_type": "code",
   "execution_count": null,
   "metadata": {
    "ExecuteTime": {
     "start_time": "2023-06-15T18:10:49.517Z"
    }
   },
   "outputs": [],
   "source": [
    "# Channels for monitoring\n",
    "channels = np.array([1530e-9,1550e-9])\n",
    "# Pump signal wavelength\n",
    "pump_signal_wavelength = np.array([980e-9,1480e-9])\n",
    "# forward pump array\n",
    "forPump =  np.linspace(5e-3, 40e-3, 10)\n",
    "# Create variables\n",
    "noise = np.zeros([len(forPump),len(pump_signal_wavelength)])\n",
    "amp_signal_power = np.zeros([len(forPump),len(pump_signal_wavelength)])\n",
    "channels_power = np.zeros([len(forPump),len(pump_signal_wavelength),len(channels)])"
   ]
  },
  {
   "cell_type": "code",
   "execution_count": null,
   "metadata": {
    "ExecuteTime": {
     "start_time": "2023-06-15T18:10:49.517Z"
    }
   },
   "outputs": [],
   "source": [
    "# 980 and 1480 nm\n",
    "for j in range(len(pump_signal_wavelength)):\n",
    "    param_edfa.forPump['pump_lambda'] = np.array([pump_signal_wavelength[j]])\n",
    "    for i in range(len(forPump)):\n",
    "        param_edfa.forPump['pump_signal']  = np.array([forPump[i]])\n",
    "        Eout, PumpF, PumpB, noisef = edfaSM(sigTxWDM, Fs, paramTx.Fc, param_edfa)\n",
    "        # Noise power\n",
    "        noise[i,j] = 1e3*power_meter(noisef)\n",
    "        # Total power\n",
    "        amp_signal_power[i,j] = 1e3*power_meter(Eout)    \n",
    "        # Channels power\n",
    "        channels_power[i,j,:] = get_channels_power(Eout[:,0], Fs, paramTx.Fc, channels)\n",
    "# Signal and channel gain\n",
    "amp_signal_gain = 10*np.log10(amp_signal_power/tx_power)\n",
    "channels_power_gain = 10*np.log10(channels_power)"
   ]
  },
  {
   "cell_type": "code",
   "execution_count": null,
   "metadata": {
    "ExecuteTime": {
     "start_time": "2023-06-15T18:10:49.518Z"
    }
   },
   "outputs": [],
   "source": [
    "fig, ax = plt.subplots(1,2,figsize=(12,6))\n",
    "ax[0].plot(1e3*forPump, amp_signal_gain[:,0], 'o-', color = 'firebrick', lw = 2, label = '980 nm')\n",
    "ax[0].plot(1e3*forPump, channels_power[:,0,0] - paramTx.Pch_dBm, 'o--', color = 'red', lw = 2, label = '1530 nm - 980 nm')\n",
    "ax[0].plot(1e3*forPump, channels_power[:,0,1] - paramTx.Pch_dBm, 'o--', color = 'darksalmon', lw = 2, label = '1550 nm - 980 nm')\n",
    "ax[0].plot(1e3*forPump, amp_signal_gain[:,1], 's-', color = 'navy', lw = 2, label = '1480 nm')\n",
    "ax[0].plot(1e3*forPump, channels_power[:,1,0] - paramTx.Pch_dBm, 's--', color = 'blue', lw = 2, label = '1530 nm - 1480 nm')\n",
    "ax[0].plot(1e3*forPump, channels_power[:,1,1] - paramTx.Pch_dBm, 's--', color = 'royalblue', lw = 2, label = '1550 nm - 1480 nm')\n",
    "\n",
    "ax[0].set_xlabel('Forward pump [mW]')\n",
    "ax[0].set_ylabel('Gain [dB]')\n",
    "ax[0].set_ylim([5,50])\n",
    "ax[0].set_xlim([1e3*forPump.min(),1e3*forPump.max()])\n",
    "ax[0].grid(True)\n",
    "ax[0].legend(loc='upper left')\n",
    "\n",
    "ax[1].plot(1e3*forPump, 10*np.log10(noise[:,0]), 'o-', color = 'firebrick', lw = 2, label = '980 nm')\n",
    "ax[1].plot(1e3*forPump, 10*np.log10(noise[:,1]), 'o-', color = 'navy', lw = 2, label = '1480 nm')\n",
    "ax[1].set_xlabel('Forward pump [mW]')\n",
    "ax[1].set_ylabel('ASE power [dBm]')\n",
    "ax[1].set_xlim([1e3*forPump.min(),1e3*forPump.max()])\n",
    "ax[1].grid(True)\n",
    "ax[1].legend(loc='upper left')"
   ]
  }
 ],
 "metadata": {
  "kernelspec": {
   "display_name": "Python 3 (ipykernel)",
   "language": "python",
   "name": "python3"
  },
  "language_info": {
   "codemirror_mode": {
    "name": "ipython",
    "version": 3
   },
   "file_extension": ".py",
   "mimetype": "text/x-python",
   "name": "python",
   "nbconvert_exporter": "python",
   "pygments_lexer": "ipython3",
   "version": "3.9.7"
  },
  "vscode": {
   "interpreter": {
    "hash": "fe6c4cde29b0c19359af5e8069e76466e74ec4aaceb024dd44afb17408094e36"
   }
  }
 },
 "nbformat": 4,
 "nbformat_minor": 2
}
